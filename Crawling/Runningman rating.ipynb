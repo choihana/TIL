{
 "cells": [
  {
   "cell_type": "markdown",
   "metadata": {},
   "source": [
    "### 필요한 라이브러리 import"
   ]
  },
  {
   "cell_type": "code",
   "execution_count": 1,
   "metadata": {},
   "outputs": [],
   "source": [
    "import pandas as pd \n",
    "import requests\n",
    "from bs4 import BeautifulSoup as bs"
   ]
  },
  {
   "cell_type": "markdown",
   "metadata": {},
   "source": [
    "### 결과물 형태"
   ]
  },
  {
   "cell_type": "code",
   "execution_count": 2,
   "metadata": {
    "scrolled": true
   },
   "outputs": [
    {
     "data": {
      "text/html": [
       "<div>\n",
       "<style scoped>\n",
       "    .dataframe tbody tr th:only-of-type {\n",
       "        vertical-align: middle;\n",
       "    }\n",
       "\n",
       "    .dataframe tbody tr th {\n",
       "        vertical-align: top;\n",
       "    }\n",
       "\n",
       "    .dataframe thead th {\n",
       "        text-align: right;\n",
       "    }\n",
       "</style>\n",
       "<table border=\"1\" class=\"dataframe\">\n",
       "  <thead>\n",
       "    <tr style=\"text-align: right;\">\n",
       "      <th></th>\n",
       "      <th>회차</th>\n",
       "      <th>방영일</th>\n",
       "      <th>닐슨</th>\n",
       "      <th>TNMS</th>\n",
       "    </tr>\n",
       "  </thead>\n",
       "  <tbody>\n",
       "    <tr>\n",
       "      <th>0</th>\n",
       "      <td>433회</td>\n",
       "      <td>1.06</td>\n",
       "      <td>7.3%</td>\n",
       "      <td>8.2%</td>\n",
       "    </tr>\n",
       "    <tr>\n",
       "      <th>1</th>\n",
       "      <td>434회</td>\n",
       "      <td>1.13</td>\n",
       "      <td>6.4%</td>\n",
       "      <td>7.2%</td>\n",
       "    </tr>\n",
       "    <tr>\n",
       "      <th>2</th>\n",
       "      <td>435회</td>\n",
       "      <td>1.20</td>\n",
       "      <td>7.3%</td>\n",
       "      <td>6.9%</td>\n",
       "    </tr>\n",
       "    <tr>\n",
       "      <th>3</th>\n",
       "      <td>436회</td>\n",
       "      <td>1.27</td>\n",
       "      <td>6.0%</td>\n",
       "      <td>7.6%</td>\n",
       "    </tr>\n",
       "    <tr>\n",
       "      <th>4</th>\n",
       "      <td>437회</td>\n",
       "      <td>2.03</td>\n",
       "      <td>6.2%</td>\n",
       "      <td>7.1%</td>\n",
       "    </tr>\n",
       "  </tbody>\n",
       "</table>\n",
       "</div>"
      ],
      "text/plain": [
       "     회차   방영일    닐슨  TNMS\n",
       "0  433회  1.06  7.3%  8.2%\n",
       "1  434회  1.13  6.4%  7.2%\n",
       "2  435회  1.20  7.3%  6.9%\n",
       "3  436회  1.27  6.0%  7.6%\n",
       "4  437회  2.03  6.2%  7.1%"
      ]
     },
     "execution_count": 2,
     "metadata": {},
     "output_type": "execute_result"
    }
   ],
   "source": [
    "result=pd.read_csv('data/시청률.csv',usecols=('회차','방영일','닐슨','TNMS'))\n",
    "result.head()"
   ]
  },
  {
   "cell_type": "code",
   "execution_count": 3,
   "metadata": {},
   "outputs": [],
   "source": [
    "url = 'https://namu.wiki/w/%EB%9F%B0%EB%8B%9D%EB%A7%A8/2019%EB%85%84'\n",
    "res = requests.get(url)\n",
    "soup = bs(res.content,'html.parser')"
   ]
  },
  {
   "cell_type": "markdown",
   "metadata": {},
   "source": [
    "콘텐츠 구조가 아래 두 태그가 반복되는 형태\n",
    "- h2 class='wiki-heading' \n",
    "- div class='wiki-heading-content' \n",
    "\n",
    "-> 따라서 3. 시청률 추이 콘텐츠는 3번째 반복될 때 나오고 인덱스로 2"
   ]
  },
  {
   "cell_type": "code",
   "execution_count": 4,
   "metadata": {},
   "outputs": [],
   "source": [
    "data=soup.select('.wiki-heading-content')[2]"
   ]
  },
  {
   "cell_type": "markdown",
   "metadata": {},
   "source": [
    "해당 div 안에 시청률 데이터가 table 형태로 제공되고 tr > td 안에 한줄로 데이터가 들어있음"
   ]
  },
  {
   "cell_type": "code",
   "execution_count": 5,
   "metadata": {},
   "outputs": [],
   "source": [
    "table=data.find('table',{'class':'wiki-table'}).find_all('td')"
   ]
  },
  {
   "cell_type": "code",
   "execution_count": 6,
   "metadata": {},
   "outputs": [
    {
     "name": "stdout",
     "output_type": "stream",
     "text": [
      "208\n",
      "회차\n",
      "방영일\n",
      "닐슨\n",
      "TNMS\n"
     ]
    }
   ],
   "source": [
    "print(len(table))\n",
    "print(table[0].text)\n",
    "print(table[1].text)\n",
    "print(table[2].text)\n",
    "print(table[3].text)"
   ]
  },
  {
   "cell_type": "code",
   "execution_count": 7,
   "metadata": {},
   "outputs": [
    {
     "data": {
      "text/plain": [
       "[<td style=\"text-align:center;\"><div class=\"wiki-paragraph\"><span class=\"wiki-color\" style=\"color:#FFFFFF\"><strong>회차</strong></span></div></td>,\n",
       " <td style=\"text-align:center;\"><div class=\"wiki-paragraph\"><span class=\"wiki-color\" style=\"color:#FFFFFF\"><strong>방영일</strong></span></div></td>,\n",
       " <td style=\"text-align:center;\"><div class=\"wiki-paragraph\"><span class=\"wiki-color\" style=\"color:#FFFFFF\"><strong>닐슨</strong></span></div></td>,\n",
       " <td style=\"text-align:center;\"><div class=\"wiki-paragraph\"><span class=\"wiki-color\" style=\"color:#FFFFFF\"><strong>TNMS</strong></span></div></td>,\n",
       " <td data-dark-style=\"background-color:#BD9700;\" style=\"background-color:#FFDA41; text-align:center;\"><div class=\"wiki-paragraph\">433회</div></td>,\n",
       " <td style=\"text-align:center;\"><div class=\"wiki-paragraph\">01.06</div></td>,\n",
       " <td style=\"text-align:center;\"><div class=\"wiki-paragraph\">7.3%</div></td>,\n",
       " <td style=\"text-align:left;\"><div class=\"wiki-paragraph\">8.2%</div></td>,\n",
       " <td data-dark-style=\"background-color:#BD9700;\" style=\"background-color:#FFDA41; text-align:center;\"><div class=\"wiki-paragraph\">434회</div></td>,\n",
       " <td style=\"text-align:center;\"><div class=\"wiki-paragraph\">01.13</div></td>,\n",
       " <td style=\"text-align:center;\"><div class=\"wiki-paragraph\">6.4%</div></td>,\n",
       " <td style=\"text-align:left;\"><div class=\"wiki-paragraph\">7.2%</div></td>,\n",
       " <td data-dark-style=\"background-color:#BD9700;\" style=\"background-color:#FFDA41; text-align:center;\"><div class=\"wiki-paragraph\">435회</div></td>,\n",
       " <td style=\"text-align:center;\"><div class=\"wiki-paragraph\">01.20</div></td>,\n",
       " <td style=\"text-align:center;\"><div class=\"wiki-paragraph\">7.3%</div></td>,\n",
       " <td style=\"text-align:left;\"><div class=\"wiki-paragraph\">6.9%</div></td>,\n",
       " <td data-dark-style=\"background-color:#BD9700;\" style=\"background-color:#FFDA41; text-align:center;\"><div class=\"wiki-paragraph\">436회</div></td>,\n",
       " <td style=\"text-align:center;\"><div class=\"wiki-paragraph\">01.27</div></td>,\n",
       " <td style=\"text-align:center;\"><div class=\"wiki-paragraph\">6.0%</div></td>,\n",
       " <td style=\"text-align:left;\"><div class=\"wiki-paragraph\">7.6%</div></td>,\n",
       " <td data-dark-style=\"background-color:#BD9700;\" style=\"background-color:#FFDA41; text-align:center;\"><div class=\"wiki-paragraph\">437회</div></td>,\n",
       " <td style=\"text-align:center;\"><div class=\"wiki-paragraph\">02.03</div></td>,\n",
       " <td style=\"text-align:center;\"><div class=\"wiki-paragraph\">6.2%</div></td>,\n",
       " <td style=\"text-align:left;\"><div class=\"wiki-paragraph\">7.1%</div></td>,\n",
       " <td data-dark-style=\"background-color:#BD9700;\" style=\"background-color:#FFDA41; text-align:center;\"><div class=\"wiki-paragraph\">438회</div></td>,\n",
       " <td style=\"text-align:center;\"><div class=\"wiki-paragraph\">02.10</div></td>,\n",
       " <td style=\"text-align:center;\"><div class=\"wiki-paragraph\">7.8%</div></td>,\n",
       " <td style=\"text-align:left;\"><div class=\"wiki-paragraph\">8.0%</div></td>,\n",
       " <td data-dark-style=\"background-color:#BD9700;\" style=\"background-color:#FFDA41; text-align:center;\"><div class=\"wiki-paragraph\">439회</div></td>,\n",
       " <td style=\"text-align:center;\"><div class=\"wiki-paragraph\">02.17</div></td>,\n",
       " <td style=\"text-align:center;\"><div class=\"wiki-paragraph\">6.7%</div></td>,\n",
       " <td style=\"text-align:left;\"><div class=\"wiki-paragraph\">7.9%</div></td>,\n",
       " <td data-dark-style=\"background-color:#BD9700;\" style=\"background-color:#FFDA41; text-align:center;\"><div class=\"wiki-paragraph\">440회</div></td>,\n",
       " <td style=\"text-align:center;\"><div class=\"wiki-paragraph\">02.24</div></td>,\n",
       " <td style=\"text-align:center;\"><div class=\"wiki-paragraph\">6.5%</div></td>,\n",
       " <td style=\"text-align:left;\"><div class=\"wiki-paragraph\">7.1%</div></td>,\n",
       " <td data-dark-style=\"background-color:#BD9700;\" style=\"background-color:#FFDA41; text-align:center;\"><div class=\"wiki-paragraph\">441회</div></td>,\n",
       " <td style=\"text-align:center;\"><div class=\"wiki-paragraph\">03.03</div></td>,\n",
       " <td style=\"text-align:center;\"><div class=\"wiki-paragraph\">6.5%</div></td>,\n",
       " <td style=\"text-align:left;\"><div class=\"wiki-paragraph\">6.4%</div></td>,\n",
       " <td data-dark-style=\"background-color:#BD9700;\" style=\"background-color:#FFDA41; text-align:center;\"><div class=\"wiki-paragraph\">442회</div></td>,\n",
       " <td style=\"text-align:center;\"><div class=\"wiki-paragraph\">03.10</div></td>,\n",
       " <td style=\"text-align:center;\"><div class=\"wiki-paragraph\">6.7%</div></td>,\n",
       " <td style=\"text-align:left;\"><div class=\"wiki-paragraph\">6.9%</div></td>,\n",
       " <td data-dark-style=\"background-color:#BD9700;\" style=\"background-color:#FFDA41; text-align:center;\"><div class=\"wiki-paragraph\">443회</div></td>,\n",
       " <td style=\"text-align:center;\"><div class=\"wiki-paragraph\">03.17</div></td>,\n",
       " <td style=\"text-align:center;\"><div class=\"wiki-paragraph\">7.5%</div></td>,\n",
       " <td style=\"text-align:left;\"><div class=\"wiki-paragraph\">7.4%</div></td>,\n",
       " <td data-dark-style=\"background-color:#BD9700;\" style=\"background-color:#FFDA41; text-align:center;\"><div class=\"wiki-paragraph\">444회</div></td>,\n",
       " <td style=\"text-align:center;\"><div class=\"wiki-paragraph\">03.24</div></td>,\n",
       " <td style=\"text-align:center;\"><div class=\"wiki-paragraph\">6.7%</div></td>,\n",
       " <td style=\"text-align:left;\"><div class=\"wiki-paragraph\">7.2%</div></td>,\n",
       " <td data-dark-style=\"background-color:#BD9700;\" style=\"background-color:#FFDA41; text-align:center;\"><div class=\"wiki-paragraph\">445회</div></td>,\n",
       " <td style=\"text-align:center;\"><div class=\"wiki-paragraph\">03.31</div></td>,\n",
       " <td style=\"text-align:center;\"><div class=\"wiki-paragraph\">6.9%</div></td>,\n",
       " <td style=\"text-align:left;\"><div class=\"wiki-paragraph\">8.3%</div></td>,\n",
       " <td data-dark-style=\"background-color:#BD9700;\" style=\"background-color:#FFDA41; text-align:center;\"><div class=\"wiki-paragraph\">446회</div></td>,\n",
       " <td style=\"text-align:center;\"><div class=\"wiki-paragraph\">04.07</div></td>,\n",
       " <td style=\"text-align:center;\"><div class=\"wiki-paragraph\">6.5%</div></td>,\n",
       " <td style=\"text-align:left;\"><div class=\"wiki-paragraph\">6.7%</div></td>,\n",
       " <td data-dark-style=\"background-color:#BD9700;\" style=\"background-color:#FFDA41; text-align:center;\"><div class=\"wiki-paragraph\">447회</div></td>,\n",
       " <td style=\"text-align:center;\"><div class=\"wiki-paragraph\">04.14</div></td>,\n",
       " <td style=\"text-align:center;\"><div class=\"wiki-paragraph\">6.7%</div></td>,\n",
       " <td style=\"text-align:left;\"><div class=\"wiki-paragraph\">7.2%</div></td>,\n",
       " <td data-dark-style=\"background-color:#BD9700;\" style=\"background-color:#FFDA41; text-align:center;\"><div class=\"wiki-paragraph\">448회</div></td>,\n",
       " <td style=\"text-align:center;\"><div class=\"wiki-paragraph\">04.21</div></td>,\n",
       " <td style=\"text-align:center;\"><div class=\"wiki-paragraph\">6.0%</div></td>,\n",
       " <td style=\"text-align:left;\"><div class=\"wiki-paragraph\">6.6%</div></td>,\n",
       " <td data-dark-style=\"background-color:#BD9700;\" style=\"background-color:#FFDA41; text-align:center;\"><div class=\"wiki-paragraph\">449회</div></td>,\n",
       " <td style=\"text-align:center;\"><div class=\"wiki-paragraph\">04.28</div></td>,\n",
       " <td style=\"text-align:center;\"><div class=\"wiki-paragraph\">7.0%</div></td>,\n",
       " <td style=\"text-align:left;\"><div class=\"wiki-paragraph\">7.2%</div></td>,\n",
       " <td data-dark-style=\"background-color:#BD9700;\" style=\"background-color:#FFDA41; text-align:center;\"><div class=\"wiki-paragraph\">450회</div></td>,\n",
       " <td style=\"text-align:center;\"><div class=\"wiki-paragraph\">05.05</div></td>,\n",
       " <td style=\"text-align:center;\"><div class=\"wiki-paragraph\">5.4%</div></td>,\n",
       " <td style=\"text-align:left;\"><div class=\"wiki-paragraph\">5.9%</div></td>,\n",
       " <td data-dark-style=\"background-color:#BD9700;\" style=\"background-color:#FFDA41; text-align:center;\"><div class=\"wiki-paragraph\">451회</div></td>,\n",
       " <td style=\"text-align:center;\"><div class=\"wiki-paragraph\">05.12</div></td>,\n",
       " <td style=\"text-align:center;\"><div class=\"wiki-paragraph\">6.4%</div></td>,\n",
       " <td style=\"text-align:left;\"><div class=\"wiki-paragraph\">7.2%</div></td>,\n",
       " <td data-dark-style=\"background-color:#BD9700;\" style=\"background-color:#FFDA41; text-align:center;\"><div class=\"wiki-paragraph\">452회</div></td>,\n",
       " <td style=\"text-align:center;\"><div class=\"wiki-paragraph\">05.19</div></td>,\n",
       " <td style=\"text-align:center;\"><div class=\"wiki-paragraph\">8.1%</div></td>,\n",
       " <td style=\"text-align:left;\"><div class=\"wiki-paragraph\">8.2%</div></td>,\n",
       " <td data-dark-style=\"background-color:#BD9700;\" style=\"background-color:#FFDA41; text-align:center;\"><div class=\"wiki-paragraph\">453회</div></td>,\n",
       " <td style=\"text-align:center;\"><div class=\"wiki-paragraph\">05.26</div></td>,\n",
       " <td style=\"text-align:center;\"><div class=\"wiki-paragraph\">6.0%</div></td>,\n",
       " <td style=\"text-align:left;\"><div class=\"wiki-paragraph\">7.2%</div></td>,\n",
       " <td data-dark-style=\"background-color:#BD9700;\" style=\"background-color:#FFDA41; text-align:center;\"><div class=\"wiki-paragraph\">454회</div></td>,\n",
       " <td style=\"text-align:center;\"><div class=\"wiki-paragraph\">06.02</div></td>,\n",
       " <td style=\"text-align:center;\"><div class=\"wiki-paragraph\">6.1%</div></td>,\n",
       " <td style=\"text-align:left;\"><div class=\"wiki-paragraph\">6.3%</div></td>,\n",
       " <td data-dark-style=\"background-color:#BD9700;\" style=\"background-color:#FFDA41; text-align:center;\"><div class=\"wiki-paragraph\">455회</div></td>,\n",
       " <td style=\"text-align:center;\"><div class=\"wiki-paragraph\">06.09</div></td>,\n",
       " <td style=\"text-align:center;\"><div class=\"wiki-paragraph\">6.6%</div></td>,\n",
       " <td style=\"text-align:left;\"><div class=\"wiki-paragraph\">6.5%</div></td>,\n",
       " <td data-dark-style=\"background-color:#BD9700;\" style=\"background-color:#FFDA41; text-align:center;\"><div class=\"wiki-paragraph\">456회</div></td>,\n",
       " <td style=\"text-align:center;\"><div class=\"wiki-paragraph\">06.16</div></td>,\n",
       " <td style=\"text-align:center;\"><div class=\"wiki-paragraph\">6.3%</div></td>,\n",
       " <td style=\"text-align:left;\"><div class=\"wiki-paragraph\">6.4%</div></td>,\n",
       " <td data-dark-style=\"background-color:#BD9700;\" style=\"background-color:#FFDA41; text-align:center;\"><div class=\"wiki-paragraph\">457회</div></td>,\n",
       " <td style=\"text-align:center;\"><div class=\"wiki-paragraph\">06.23</div></td>,\n",
       " <td style=\"text-align:center;\"><div class=\"wiki-paragraph\">6.4%</div></td>,\n",
       " <td style=\"text-align:left;\"><div class=\"wiki-paragraph\">7.1%</div></td>,\n",
       " <td data-dark-style=\"background-color:#BD9700;\" style=\"background-color:#FFDA41; text-align:center;\"><div class=\"wiki-paragraph\">458회</div></td>,\n",
       " <td style=\"text-align:center;\"><div class=\"wiki-paragraph\">07.07</div></td>,\n",
       " <td style=\"text-align:center;\"><div class=\"wiki-paragraph\">6.4%</div></td>,\n",
       " <td style=\"text-align:left;\"><div class=\"wiki-paragraph\">7.7%</div></td>,\n",
       " <td data-dark-style=\"background-color:#BD9700;\" style=\"background-color:#FFDA41; text-align:center;\"><div class=\"wiki-paragraph\">459회</div></td>,\n",
       " <td style=\"text-align:center;\"><div class=\"wiki-paragraph\">07.14</div></td>,\n",
       " <td style=\"text-align:center;\"><div class=\"wiki-paragraph\">5.1%</div></td>,\n",
       " <td style=\"text-align:left;\"><div class=\"wiki-paragraph\">5.3%</div></td>,\n",
       " <td data-dark-style=\"background-color:#BD9700;\" style=\"background-color:#FFDA41; text-align:center;\"><div class=\"wiki-paragraph\">460회</div></td>,\n",
       " <td style=\"text-align:center;\"><div class=\"wiki-paragraph\">07.21</div></td>,\n",
       " <td style=\"text-align:center;\"><div class=\"wiki-paragraph\">6.9%</div></td>,\n",
       " <td style=\"text-align:left;\"><div class=\"wiki-paragraph\">7.1%</div></td>,\n",
       " <td data-dark-style=\"background-color:#BD9700;\" style=\"background-color:#FFDA41; text-align:center;\"><div class=\"wiki-paragraph\">461회</div></td>,\n",
       " <td style=\"text-align:center;\"><div class=\"wiki-paragraph\">07.28</div></td>,\n",
       " <td style=\"text-align:center;\"><div class=\"wiki-paragraph\">7.1%</div></td>,\n",
       " <td style=\"text-align:left;\"><div class=\"wiki-paragraph\">7.3%</div></td>,\n",
       " <td data-dark-style=\"background-color:#BD9700;\" style=\"background-color:#FFDA41; text-align:left;\"><div class=\"wiki-paragraph\">462회</div></td>,\n",
       " <td style=\"text-align:center;\"><div class=\"wiki-paragraph\">08.04</div></td>,\n",
       " <td style=\"text-align:center;\"><div class=\"wiki-paragraph\">5.7%</div></td>,\n",
       " <td style=\"text-align:left;\"><div class=\"wiki-paragraph\">6.0%</div></td>,\n",
       " <td data-dark-style=\"background-color:#BD9700;\" style=\"background-color:#FFDA41; text-align:center;\"><div class=\"wiki-paragraph\">463회</div></td>,\n",
       " <td style=\"text-align:center;\"><div class=\"wiki-paragraph\">08.11</div></td>,\n",
       " <td style=\"text-align:center;\"><div class=\"wiki-paragraph\">6.2%</div></td>,\n",
       " <td style=\"text-align:left;\"><div class=\"wiki-paragraph\">6.5%</div></td>,\n",
       " <td data-dark-style=\"background-color:#BD9700;\" style=\"background-color:#FFDA41; text-align:center;\"><div class=\"wiki-paragraph\">464회</div></td>,\n",
       " <td style=\"text-align:center;\"><div class=\"wiki-paragraph\">08.18</div></td>,\n",
       " <td style=\"text-align:center;\"><div class=\"wiki-paragraph\">6.1%</div></td>,\n",
       " <td style=\"text-align:left;\"><div class=\"wiki-paragraph\">6.4%</div></td>,\n",
       " <td data-dark-style=\"background-color:#BD9700;\" style=\"background-color:#FFDA41; text-align:center;\"><div class=\"wiki-paragraph\">465회</div></td>,\n",
       " <td style=\"text-align:center;\"><div class=\"wiki-paragraph\">08.25</div></td>,\n",
       " <td style=\"text-align:center;\"><div class=\"wiki-paragraph\">6.4%</div></td>,\n",
       " <td style=\"text-align:left;\"><div class=\"wiki-paragraph\">7.1%</div></td>,\n",
       " <td data-dark-style=\"background-color:#BD9700;\" style=\"background-color:#FFDA41; text-align:center;\"><div class=\"wiki-paragraph\">466회</div></td>,\n",
       " <td style=\"text-align:center;\"><div class=\"wiki-paragraph\">09.01</div></td>,\n",
       " <td style=\"text-align:center;\"><div class=\"wiki-paragraph\">5.7%</div></td>,\n",
       " <td style=\"text-align:left;\"><div class=\"wiki-paragraph\">7.0%</div></td>,\n",
       " <td data-dark-style=\"background-color:#BD9700;\" style=\"background-color:#FFDA41; text-align:left;\"><div class=\"wiki-paragraph\">467회</div></td>,\n",
       " <td style=\"text-align:center;\"><div class=\"wiki-paragraph\">09.08</div></td>,\n",
       " <td style=\"text-align:center;\"><div class=\"wiki-paragraph\">6.7%</div></td>,\n",
       " <td style=\"text-align:left;\"><div class=\"wiki-paragraph\">8.0%</div></td>,\n",
       " <td data-dark-style=\"background-color:#BD9700;\" style=\"background-color:#FFDA41; text-align:center;\"><div class=\"wiki-paragraph\">468회</div></td>,\n",
       " <td style=\"text-align:center;\"><div class=\"wiki-paragraph\">09.15</div></td>,\n",
       " <td style=\"text-align:center;\"><div class=\"wiki-paragraph\">6.3%</div></td>,\n",
       " <td style=\"text-align:left;\"><div class=\"wiki-paragraph\">7.3%</div></td>,\n",
       " <td data-dark-style=\"background-color:#BD9700;\" style=\"background-color:#FFDA41; text-align:center;\"><div class=\"wiki-paragraph\">469회</div></td>,\n",
       " <td style=\"text-align:center;\"><div class=\"wiki-paragraph\">09.22</div></td>,\n",
       " <td style=\"text-align:center;\"><div class=\"wiki-paragraph\">7.4%</div></td>,\n",
       " <td style=\"text-align:left;\"><div class=\"wiki-paragraph\">8.1%</div></td>,\n",
       " <td data-dark-style=\"background-color:#BD9700;\" style=\"background-color:#FFDA41; text-align:center;\"><div class=\"wiki-paragraph\">470회</div></td>,\n",
       " <td style=\"text-align:center;\"><div class=\"wiki-paragraph\">09.29</div></td>,\n",
       " <td style=\"text-align:center;\"><div class=\"wiki-paragraph\">6.2%</div></td>,\n",
       " <td style=\"text-align:left;\"><div class=\"wiki-paragraph\">7.4%</div></td>,\n",
       " <td data-dark-style=\"background-color:#BD9700;\" style=\"background-color:#FFDA41; text-align:center;\"><div class=\"wiki-paragraph\">471회</div></td>,\n",
       " <td style=\"text-align:center;\"><div class=\"wiki-paragraph\">10.06</div></td>,\n",
       " <td style=\"text-align:center;\"><div class=\"wiki-paragraph\">6.8%</div></td>,\n",
       " <td style=\"text-align:left;\"><div class=\"wiki-paragraph\">7.3%</div></td>,\n",
       " <td data-dark-style=\"background-color:#BD9700;\" style=\"background-color:#FFDA41; text-align:center;\"><div class=\"wiki-paragraph\">472회</div></td>,\n",
       " <td style=\"text-align:center;\"><div class=\"wiki-paragraph\">10.13</div></td>,\n",
       " <td style=\"text-align:center;\"><div class=\"wiki-paragraph\">6.1%</div></td>,\n",
       " <td style=\"text-align:left;\"><div class=\"wiki-paragraph\">7.4%</div></td>,\n",
       " <td data-dark-style=\"background-color:#BD9700;\" style=\"background-color:#FFDA41; text-align:center;\"><div class=\"wiki-paragraph\">473회</div></td>,\n",
       " <td style=\"text-align:center;\"><div class=\"wiki-paragraph\">10.20</div></td>,\n",
       " <td style=\"text-align:center;\"><div class=\"wiki-paragraph\">6.2%</div></td>,\n",
       " <td style=\"text-align:left;\"><div class=\"wiki-paragraph\">6.8%</div></td>,\n",
       " <td data-dark-style=\"background-color:#BD9700;\" style=\"background-color:#FFDA41; text-align:center;\"><div class=\"wiki-paragraph\">474회</div></td>,\n",
       " <td style=\"text-align:center;\"><div class=\"wiki-paragraph\">10.27</div></td>,\n",
       " <td style=\"text-align:center;\"><div class=\"wiki-paragraph\">6.5%</div></td>,\n",
       " <td style=\"text-align:left;\"><div class=\"wiki-paragraph\">7.8%</div></td>,\n",
       " <td data-dark-style=\"background-color:#BD9700;\" style=\"background-color:#FFDA41; text-align:center;\"><div class=\"wiki-paragraph\">475회</div></td>,\n",
       " <td style=\"text-align:center;\"><div class=\"wiki-paragraph\">11.03</div></td>,\n",
       " <td style=\"text-align:center;\"><div class=\"wiki-paragraph\">6.6%</div></td>,\n",
       " <td style=\"text-align:left;\"><div class=\"wiki-paragraph\">7.4%</div></td>,\n",
       " <td data-dark-style=\"background-color:#BD9700;\" style=\"background-color:#FFDA41; text-align:center;\"><div class=\"wiki-paragraph\">476회</div></td>,\n",
       " <td style=\"text-align:center;\"><div class=\"wiki-paragraph\">11.10</div></td>,\n",
       " <td style=\"text-align:center;\"><div class=\"wiki-paragraph\">7.3%</div></td>,\n",
       " <td style=\"text-align:left;\"><div class=\"wiki-paragraph\">8.2%</div></td>,\n",
       " <td data-dark-style=\"background-color:#BD9700;\" style=\"background-color:#FFDA41; text-align:center;\"><div class=\"wiki-paragraph\">477회</div></td>,\n",
       " <td style=\"text-align:center;\"><div class=\"wiki-paragraph\">11.17</div></td>,\n",
       " <td style=\"text-align:center;\"><div class=\"wiki-paragraph\">7.9%</div></td>,\n",
       " <td style=\"text-align:left;\"><div class=\"wiki-paragraph\">7.9%</div></td>,\n",
       " <td data-dark-style=\"background-color:#BD9700;\" style=\"background-color:#FFDA41; text-align:center;\"><div class=\"wiki-paragraph\">478회</div></td>,\n",
       " <td style=\"text-align:center;\"><div class=\"wiki-paragraph\">11.24</div></td>,\n",
       " <td style=\"text-align:center;\"><div class=\"wiki-paragraph\">6.8%</div></td>,\n",
       " <td style=\"text-align:left;\"><div class=\"wiki-paragraph\">7.5%</div></td>,\n",
       " <td data-dark-style=\"background-color:#BD9700;\" style=\"background-color:#FFDA41; text-align:center;\"><div class=\"wiki-paragraph\">479회</div></td>,\n",
       " <td style=\"text-align:center;\"><div class=\"wiki-paragraph\">12.01</div></td>,\n",
       " <td style=\"text-align:center;\"><div class=\"wiki-paragraph\">7.1%</div></td>,\n",
       " <td style=\"text-align:left;\"><div class=\"wiki-paragraph\">8.5%</div></td>,\n",
       " <td data-dark-style=\"background-color:#BD9700;\" style=\"background-color:#FFDA41; text-align:center;\"><div class=\"wiki-paragraph\">480회</div></td>,\n",
       " <td style=\"text-align:center;\"><div class=\"wiki-paragraph\">12.08</div></td>,\n",
       " <td style=\"text-align:center;\"><div class=\"wiki-paragraph\">7.0%</div></td>,\n",
       " <td style=\"text-align:left;\"><div class=\"wiki-paragraph\">8.4%</div></td>,\n",
       " <td data-dark-style=\"background-color:#BD9700;\" style=\"background-color:#FFDA41; text-align:center;\"><div class=\"wiki-paragraph\">481회</div></td>,\n",
       " <td style=\"text-align:center;\"><div class=\"wiki-paragraph\">12.15</div></td>,\n",
       " <td style=\"text-align:center;\"><div class=\"wiki-paragraph\">7.3%</div></td>,\n",
       " <td style=\"text-align:left;\"><div class=\"wiki-paragraph\">7.3%</div></td>,\n",
       " <td data-dark-style=\"background-color:#BD9700;\" style=\"background-color:#FFDA41; text-align:center;\"><div class=\"wiki-paragraph\">482회</div></td>,\n",
       " <td style=\"text-align:center;\"><div class=\"wiki-paragraph\">12.22</div></td>,\n",
       " <td style=\"text-align:center;\"><div class=\"wiki-paragraph\">7.4%</div></td>,\n",
       " <td style=\"text-align:left;\"><div class=\"wiki-paragraph\">7.3%</div></td>,\n",
       " <td data-dark-style=\"background-color:#BD9700;\" style=\"background-color:#FFDA41; text-align:center;\"><div class=\"wiki-paragraph\">483회</div></td>,\n",
       " <td style=\"text-align:center;\"><div class=\"wiki-paragraph\">12.29</div></td>,\n",
       " <td style=\"text-align:center;\"><div class=\"wiki-paragraph\">6.8%</div></td>,\n",
       " <td style=\"text-align:left;\"><div class=\"wiki-paragraph\">7.0%</div></td>]"
      ]
     },
     "execution_count": 7,
     "metadata": {},
     "output_type": "execute_result"
    }
   ],
   "source": [
    "table"
   ]
  },
  {
   "cell_type": "code",
   "execution_count": 21,
   "metadata": {
    "scrolled": true
   },
   "outputs": [],
   "source": [
    "회차 = []\n",
    "방영일 = []\n",
    "닐슨 = []\n",
    "TNMS = []"
   ]
  },
  {
   "cell_type": "code",
   "execution_count": 22,
   "metadata": {},
   "outputs": [],
   "source": [
    "def make_list(n,list_name):    \n",
    "    for t in range(n,len(table),4):\n",
    "        list_name.append(table[t].text)"
   ]
  },
  {
   "cell_type": "code",
   "execution_count": 23,
   "metadata": {},
   "outputs": [],
   "source": [
    "make_list(4,회차)\n",
    "make_list(5,방영일)\n",
    "make_list(6,닐슨)\n",
    "make_list(7,TNMS)"
   ]
  },
  {
   "cell_type": "code",
   "execution_count": 24,
   "metadata": {
    "scrolled": true
   },
   "outputs": [],
   "source": [
    "df=pd.DataFrame({'회차':회차,\n",
    "             '방영일':방영일,\n",
    "             '닐슨':닐슨,\n",
    "             'TNMS':TNMS})"
   ]
  },
  {
   "cell_type": "markdown",
   "metadata": {},
   "source": [
    "### Plotly 시각화\n",
    "\n",
    "<a href='https://plotly.com/python/line-charts/'> plotly 참고 </a>"
   ]
  },
  {
   "cell_type": "code",
   "execution_count": 36,
   "metadata": {},
   "outputs": [
    {
     "data": {
      "text/html": [
       "        <script type=\"text/javascript\">\n",
       "        window.PlotlyConfig = {MathJaxConfig: 'local'};\n",
       "        if (window.MathJax) {MathJax.Hub.Config({SVG: {font: \"STIX-Web\"}});}\n",
       "        if (typeof require !== 'undefined') {\n",
       "        require.undef(\"plotly\");\n",
       "        requirejs.config({\n",
       "            paths: {\n",
       "                'plotly': ['https://cdn.plot.ly/plotly-latest.min']\n",
       "            }\n",
       "        });\n",
       "        require(['plotly'], function(Plotly) {\n",
       "            window._Plotly = Plotly;\n",
       "        });\n",
       "        }\n",
       "        </script>\n",
       "        "
      ]
     },
     "metadata": {},
     "output_type": "display_data"
    },
    {
     "data": {
      "text/html": [
       "<style>.container {width:90% !important;}</style>"
      ],
      "text/plain": [
       "<IPython.core.display.HTML object>"
      ]
     },
     "metadata": {},
     "output_type": "display_data"
    }
   ],
   "source": [
    "import plotly.express as px\n",
    "import plotly.graph_objects as go\n",
    "\n",
    "# for offline ploting\n",
    "from plotly.offline import plot, iplot, init_notebook_mode\n",
    "init_notebook_mode(connected=True)\n",
    "import plotly.io as pio\n",
    "pio.renderers.default = \"notebook_connected\"\n",
    "\n",
    "from IPython.core.display import display, HTML\n",
    "display(HTML(\"<style>.container {width:90% !important;}</style>\"))"
   ]
  },
  {
   "cell_type": "code",
   "execution_count": 26,
   "metadata": {},
   "outputs": [
    {
     "data": {
      "text/plain": [
       "0     2020-01-06\n",
       "1     2020-01-13\n",
       "2     2020-01-20\n",
       "3     2020-01-27\n",
       "4     2020-02-03\n",
       "5     2020-02-10\n",
       "6     2020-02-17\n",
       "7     2020-02-24\n",
       "8     2020-03-03\n",
       "9     2020-03-10\n",
       "10    2020-03-17\n",
       "11    2020-03-24\n",
       "12    2020-03-31\n",
       "13    2020-04-07\n",
       "14    2020-04-14\n",
       "15    2020-04-21\n",
       "16    2020-04-28\n",
       "17    2020-05-05\n",
       "18    2020-05-12\n",
       "19    2020-05-19\n",
       "20    2020-05-26\n",
       "21    2020-06-02\n",
       "22    2020-06-09\n",
       "23    2020-06-16\n",
       "24    2020-06-23\n",
       "25    2020-07-07\n",
       "26    2020-07-14\n",
       "27    2020-07-21\n",
       "28    2020-07-28\n",
       "29    2020-08-04\n",
       "30    2020-08-11\n",
       "31    2020-08-18\n",
       "32    2020-08-25\n",
       "33    2020-09-01\n",
       "34    2020-09-08\n",
       "35    2020-09-15\n",
       "36    2020-09-22\n",
       "37    2020-09-29\n",
       "38    2020-10-06\n",
       "39    2020-10-13\n",
       "40    2020-10-20\n",
       "41    2020-10-27\n",
       "42    2020-11-03\n",
       "43    2020-11-10\n",
       "44    2020-11-17\n",
       "45    2020-11-24\n",
       "46    2020-12-01\n",
       "47    2020-12-08\n",
       "48    2020-12-15\n",
       "49    2020-12-22\n",
       "50    2020-12-29\n",
       "Name: 방영일, dtype: object"
      ]
     },
     "execution_count": 26,
     "metadata": {},
     "output_type": "execute_result"
    }
   ],
   "source": [
    "# 방영일 str -> datetime 으로 변경\n",
    "df['방영일']=df['방영일'].apply(lambda x:'2020-'+x.split('.')[0]+'-'+x.split('.')[1])\n",
    "df['방영일']"
   ]
  },
  {
   "cell_type": "code",
   "execution_count": 29,
   "metadata": {},
   "outputs": [],
   "source": [
    "df['방영일']=pd.to_datetime(df['방영일'],format = '%Y-%m-%d')"
   ]
  },
  {
   "cell_type": "code",
   "execution_count": 133,
   "metadata": {},
   "outputs": [
    {
     "data": {
      "text/html": [
       "<div>                            <div id=\"0acdeb60-ba74-4d63-9af7-3542a446c6b8\" class=\"plotly-graph-div\" style=\"height:525px; width:100%;\"></div>            <script type=\"text/javascript\">                require([\"plotly\"], function(Plotly) {                    window.PLOTLYENV=window.PLOTLYENV || {};                                    if (document.getElementById(\"0acdeb60-ba74-4d63-9af7-3542a446c6b8\")) {                    Plotly.newPlot(                        \"0acdeb60-ba74-4d63-9af7-3542a446c6b8\",                        [{\"hovertemplate\": \"variable=\\ub2d0\\uc2a8<br>\\ubc29\\uc601\\uc77c=%{x}<br>value=%{y}<extra></extra>\", \"legendgroup\": \"\\ub2d0\\uc2a8\", \"line\": {\"color\": \"#636efa\", \"dash\": \"solid\"}, \"mode\": \"lines\", \"name\": \"\\ub2d0\\uc2a8\", \"orientation\": \"v\", \"showlegend\": true, \"type\": \"scatter\", \"x\": [\"01.06\", \"01.13\", \"01.20\", \"01.27\", \"02.03\", \"02.10\", \"02.17\", \"02.24\", \"03.03\", \"03.10\", \"03.17\", \"03.24\", \"03.31\", \"04.07\", \"04.14\", \"04.21\", \"04.28\", \"05.05\", \"05.12\", \"05.19\", \"05.26\", \"06.02\", \"06.09\", \"06.16\", \"06.23\", \"07.07\", \"07.14\", \"07.21\", \"07.28\", \"08.04\", \"08.11\", \"08.18\", \"08.25\", \"09.01\", \"09.08\", \"09.15\", \"09.22\", \"09.29\", \"10.06\", \"10.13\", \"10.20\", \"10.27\", \"11.03\", \"11.10\", \"11.17\", \"11.24\", \"12.01\", \"12.08\", \"12.15\", \"12.22\", \"12.29\"], \"xaxis\": \"x\", \"y\": [\"7.3%\", \"6.4%\", \"7.3%\", \"6.0%\", \"6.2%\", \"7.8%\", \"6.7%\", \"6.5%\", \"6.5%\", \"6.7%\", \"7.5%\", \"6.7%\", \"6.9%\", \"6.5%\", \"6.7%\", \"6.0%\", \"7.0%\", \"5.4%\", \"6.4%\", \"8.1%\", \"6.0%\", \"6.1%\", \"6.6%\", \"6.3%\", \"6.4%\", \"6.4%\", \"5.1%\", \"6.9%\", \"7.1%\", \"5.7%\", \"6.2%\", \"6.1%\", \"6.4%\", \"5.7%\", \"6.7%\", \"6.3%\", \"7.4%\", \"6.2%\", \"6.8%\", \"6.1%\", \"6.2%\", \"6.5%\", \"6.6%\", \"7.3%\", \"7.9%\", \"6.8%\", \"7.1%\", \"7.0%\", \"7.3%\", \"7.4%\", \"6.8%\"], \"yaxis\": \"y\"}, {\"hovertemplate\": \"variable=TNMS<br>\\ubc29\\uc601\\uc77c=%{x}<br>value=%{y}<extra></extra>\", \"legendgroup\": \"TNMS\", \"line\": {\"color\": \"#EF553B\", \"dash\": \"solid\"}, \"mode\": \"lines\", \"name\": \"TNMS\", \"orientation\": \"v\", \"showlegend\": true, \"type\": \"scatter\", \"x\": [\"01.06\", \"01.13\", \"01.20\", \"01.27\", \"02.03\", \"02.10\", \"02.17\", \"02.24\", \"03.03\", \"03.10\", \"03.17\", \"03.24\", \"03.31\", \"04.07\", \"04.14\", \"04.21\", \"04.28\", \"05.05\", \"05.12\", \"05.19\", \"05.26\", \"06.02\", \"06.09\", \"06.16\", \"06.23\", \"07.07\", \"07.14\", \"07.21\", \"07.28\", \"08.04\", \"08.11\", \"08.18\", \"08.25\", \"09.01\", \"09.08\", \"09.15\", \"09.22\", \"09.29\", \"10.06\", \"10.13\", \"10.20\", \"10.27\", \"11.03\", \"11.10\", \"11.17\", \"11.24\", \"12.01\", \"12.08\", \"12.15\", \"12.22\", \"12.29\"], \"xaxis\": \"x\", \"y\": [\"8.2%\", \"7.2%\", \"6.9%\", \"7.6%\", \"7.1%\", \"8.0%\", \"7.9%\", \"7.1%\", \"6.4%\", \"6.9%\", \"7.4%\", \"7.2%\", \"8.3%\", \"6.7%\", \"7.2%\", \"6.6%\", \"7.2%\", \"5.9%\", \"7.2%\", \"8.2%\", \"7.2%\", \"6.3%\", \"6.5%\", \"6.4%\", \"7.1%\", \"7.7%\", \"5.3%\", \"7.1%\", \"7.3%\", \"6.0%\", \"6.5%\", \"6.4%\", \"7.1%\", \"7.0%\", \"8.0%\", \"7.3%\", \"8.1%\", \"7.4%\", \"7.3%\", \"7.4%\", \"6.8%\", \"7.8%\", \"7.4%\", \"8.2%\", \"7.9%\", \"7.5%\", \"8.5%\", \"8,4%\", \"7.3%\", \"7.3%\", \"7.0%\"], \"yaxis\": \"y\"}],                        {\"legend\": {\"title\": {\"text\": \"variable\"}, \"tracegroupgap\": 0}, \"template\": {\"data\": {\"bar\": [{\"error_x\": {\"color\": \"#2a3f5f\"}, \"error_y\": {\"color\": \"#2a3f5f\"}, \"marker\": {\"line\": {\"color\": \"#E5ECF6\", \"width\": 0.5}}, \"type\": \"bar\"}], \"barpolar\": [{\"marker\": {\"line\": {\"color\": \"#E5ECF6\", \"width\": 0.5}}, \"type\": \"barpolar\"}], \"carpet\": [{\"aaxis\": {\"endlinecolor\": \"#2a3f5f\", \"gridcolor\": \"white\", \"linecolor\": \"white\", \"minorgridcolor\": \"white\", \"startlinecolor\": \"#2a3f5f\"}, \"baxis\": {\"endlinecolor\": \"#2a3f5f\", \"gridcolor\": \"white\", \"linecolor\": \"white\", \"minorgridcolor\": \"white\", \"startlinecolor\": \"#2a3f5f\"}, \"type\": \"carpet\"}], \"choropleth\": [{\"colorbar\": {\"outlinewidth\": 0, \"ticks\": \"\"}, \"type\": \"choropleth\"}], \"contour\": [{\"colorbar\": {\"outlinewidth\": 0, \"ticks\": \"\"}, \"colorscale\": [[0.0, \"#0d0887\"], [0.1111111111111111, \"#46039f\"], [0.2222222222222222, \"#7201a8\"], [0.3333333333333333, \"#9c179e\"], [0.4444444444444444, \"#bd3786\"], [0.5555555555555556, \"#d8576b\"], [0.6666666666666666, \"#ed7953\"], [0.7777777777777778, \"#fb9f3a\"], [0.8888888888888888, \"#fdca26\"], [1.0, \"#f0f921\"]], \"type\": \"contour\"}], \"contourcarpet\": [{\"colorbar\": {\"outlinewidth\": 0, \"ticks\": \"\"}, \"type\": \"contourcarpet\"}], \"heatmap\": [{\"colorbar\": {\"outlinewidth\": 0, \"ticks\": \"\"}, \"colorscale\": [[0.0, \"#0d0887\"], [0.1111111111111111, \"#46039f\"], [0.2222222222222222, \"#7201a8\"], [0.3333333333333333, \"#9c179e\"], [0.4444444444444444, \"#bd3786\"], [0.5555555555555556, \"#d8576b\"], [0.6666666666666666, \"#ed7953\"], [0.7777777777777778, \"#fb9f3a\"], [0.8888888888888888, \"#fdca26\"], [1.0, \"#f0f921\"]], \"type\": \"heatmap\"}], \"heatmapgl\": [{\"colorbar\": {\"outlinewidth\": 0, \"ticks\": \"\"}, \"colorscale\": [[0.0, \"#0d0887\"], [0.1111111111111111, \"#46039f\"], [0.2222222222222222, \"#7201a8\"], [0.3333333333333333, \"#9c179e\"], [0.4444444444444444, \"#bd3786\"], [0.5555555555555556, \"#d8576b\"], [0.6666666666666666, \"#ed7953\"], [0.7777777777777778, \"#fb9f3a\"], [0.8888888888888888, \"#fdca26\"], [1.0, \"#f0f921\"]], \"type\": \"heatmapgl\"}], \"histogram\": [{\"marker\": {\"colorbar\": {\"outlinewidth\": 0, \"ticks\": \"\"}}, \"type\": \"histogram\"}], \"histogram2d\": [{\"colorbar\": {\"outlinewidth\": 0, \"ticks\": \"\"}, \"colorscale\": [[0.0, \"#0d0887\"], [0.1111111111111111, \"#46039f\"], [0.2222222222222222, \"#7201a8\"], [0.3333333333333333, \"#9c179e\"], [0.4444444444444444, \"#bd3786\"], [0.5555555555555556, \"#d8576b\"], [0.6666666666666666, \"#ed7953\"], [0.7777777777777778, \"#fb9f3a\"], [0.8888888888888888, \"#fdca26\"], [1.0, \"#f0f921\"]], \"type\": \"histogram2d\"}], \"histogram2dcontour\": [{\"colorbar\": {\"outlinewidth\": 0, \"ticks\": \"\"}, \"colorscale\": [[0.0, \"#0d0887\"], [0.1111111111111111, \"#46039f\"], [0.2222222222222222, \"#7201a8\"], [0.3333333333333333, \"#9c179e\"], [0.4444444444444444, \"#bd3786\"], [0.5555555555555556, \"#d8576b\"], [0.6666666666666666, \"#ed7953\"], [0.7777777777777778, \"#fb9f3a\"], [0.8888888888888888, \"#fdca26\"], [1.0, \"#f0f921\"]], \"type\": \"histogram2dcontour\"}], \"mesh3d\": [{\"colorbar\": {\"outlinewidth\": 0, \"ticks\": \"\"}, \"type\": \"mesh3d\"}], \"parcoords\": [{\"line\": {\"colorbar\": {\"outlinewidth\": 0, \"ticks\": \"\"}}, \"type\": \"parcoords\"}], \"pie\": [{\"automargin\": true, \"type\": \"pie\"}], \"scatter\": [{\"marker\": {\"colorbar\": {\"outlinewidth\": 0, \"ticks\": \"\"}}, \"type\": \"scatter\"}], \"scatter3d\": [{\"line\": {\"colorbar\": {\"outlinewidth\": 0, \"ticks\": \"\"}}, \"marker\": {\"colorbar\": {\"outlinewidth\": 0, \"ticks\": \"\"}}, \"type\": \"scatter3d\"}], \"scattercarpet\": [{\"marker\": {\"colorbar\": {\"outlinewidth\": 0, \"ticks\": \"\"}}, \"type\": \"scattercarpet\"}], \"scattergeo\": [{\"marker\": {\"colorbar\": {\"outlinewidth\": 0, \"ticks\": \"\"}}, \"type\": \"scattergeo\"}], \"scattergl\": [{\"marker\": {\"colorbar\": {\"outlinewidth\": 0, \"ticks\": \"\"}}, \"type\": \"scattergl\"}], \"scattermapbox\": [{\"marker\": {\"colorbar\": {\"outlinewidth\": 0, \"ticks\": \"\"}}, \"type\": \"scattermapbox\"}], \"scatterpolar\": [{\"marker\": {\"colorbar\": {\"outlinewidth\": 0, \"ticks\": \"\"}}, \"type\": \"scatterpolar\"}], \"scatterpolargl\": [{\"marker\": {\"colorbar\": {\"outlinewidth\": 0, \"ticks\": \"\"}}, \"type\": \"scatterpolargl\"}], \"scatterternary\": [{\"marker\": {\"colorbar\": {\"outlinewidth\": 0, \"ticks\": \"\"}}, \"type\": \"scatterternary\"}], \"surface\": [{\"colorbar\": {\"outlinewidth\": 0, \"ticks\": \"\"}, \"colorscale\": [[0.0, \"#0d0887\"], [0.1111111111111111, \"#46039f\"], [0.2222222222222222, \"#7201a8\"], [0.3333333333333333, \"#9c179e\"], [0.4444444444444444, \"#bd3786\"], [0.5555555555555556, \"#d8576b\"], [0.6666666666666666, \"#ed7953\"], [0.7777777777777778, \"#fb9f3a\"], [0.8888888888888888, \"#fdca26\"], [1.0, \"#f0f921\"]], \"type\": \"surface\"}], \"table\": [{\"cells\": {\"fill\": {\"color\": \"#EBF0F8\"}, \"line\": {\"color\": \"white\"}}, \"header\": {\"fill\": {\"color\": \"#C8D4E3\"}, \"line\": {\"color\": \"white\"}}, \"type\": \"table\"}]}, \"layout\": {\"annotationdefaults\": {\"arrowcolor\": \"#2a3f5f\", \"arrowhead\": 0, \"arrowwidth\": 1}, \"coloraxis\": {\"colorbar\": {\"outlinewidth\": 0, \"ticks\": \"\"}}, \"colorscale\": {\"diverging\": [[0, \"#8e0152\"], [0.1, \"#c51b7d\"], [0.2, \"#de77ae\"], [0.3, \"#f1b6da\"], [0.4, \"#fde0ef\"], [0.5, \"#f7f7f7\"], [0.6, \"#e6f5d0\"], [0.7, \"#b8e186\"], [0.8, \"#7fbc41\"], [0.9, \"#4d9221\"], [1, \"#276419\"]], \"sequential\": [[0.0, \"#0d0887\"], [0.1111111111111111, \"#46039f\"], [0.2222222222222222, \"#7201a8\"], [0.3333333333333333, \"#9c179e\"], [0.4444444444444444, \"#bd3786\"], [0.5555555555555556, \"#d8576b\"], [0.6666666666666666, \"#ed7953\"], [0.7777777777777778, \"#fb9f3a\"], [0.8888888888888888, \"#fdca26\"], [1.0, \"#f0f921\"]], \"sequentialminus\": [[0.0, \"#0d0887\"], [0.1111111111111111, \"#46039f\"], [0.2222222222222222, \"#7201a8\"], [0.3333333333333333, \"#9c179e\"], [0.4444444444444444, \"#bd3786\"], [0.5555555555555556, \"#d8576b\"], [0.6666666666666666, \"#ed7953\"], [0.7777777777777778, \"#fb9f3a\"], [0.8888888888888888, \"#fdca26\"], [1.0, \"#f0f921\"]]}, \"colorway\": [\"#636efa\", \"#EF553B\", \"#00cc96\", \"#ab63fa\", \"#FFA15A\", \"#19d3f3\", \"#FF6692\", \"#B6E880\", \"#FF97FF\", \"#FECB52\"], \"font\": {\"color\": \"#2a3f5f\"}, \"geo\": {\"bgcolor\": \"white\", \"lakecolor\": \"white\", \"landcolor\": \"#E5ECF6\", \"showlakes\": true, \"showland\": true, \"subunitcolor\": \"white\"}, \"hoverlabel\": {\"align\": \"left\"}, \"hovermode\": \"closest\", \"mapbox\": {\"style\": \"light\"}, \"paper_bgcolor\": \"white\", \"plot_bgcolor\": \"#E5ECF6\", \"polar\": {\"angularaxis\": {\"gridcolor\": \"white\", \"linecolor\": \"white\", \"ticks\": \"\"}, \"bgcolor\": \"#E5ECF6\", \"radialaxis\": {\"gridcolor\": \"white\", \"linecolor\": \"white\", \"ticks\": \"\"}}, \"scene\": {\"xaxis\": {\"backgroundcolor\": \"#E5ECF6\", \"gridcolor\": \"white\", \"gridwidth\": 2, \"linecolor\": \"white\", \"showbackground\": true, \"ticks\": \"\", \"zerolinecolor\": \"white\"}, \"yaxis\": {\"backgroundcolor\": \"#E5ECF6\", \"gridcolor\": \"white\", \"gridwidth\": 2, \"linecolor\": \"white\", \"showbackground\": true, \"ticks\": \"\", \"zerolinecolor\": \"white\"}, \"zaxis\": {\"backgroundcolor\": \"#E5ECF6\", \"gridcolor\": \"white\", \"gridwidth\": 2, \"linecolor\": \"white\", \"showbackground\": true, \"ticks\": \"\", \"zerolinecolor\": \"white\"}}, \"shapedefaults\": {\"line\": {\"color\": \"#2a3f5f\"}}, \"ternary\": {\"aaxis\": {\"gridcolor\": \"white\", \"linecolor\": \"white\", \"ticks\": \"\"}, \"baxis\": {\"gridcolor\": \"white\", \"linecolor\": \"white\", \"ticks\": \"\"}, \"bgcolor\": \"#E5ECF6\", \"caxis\": {\"gridcolor\": \"white\", \"linecolor\": \"white\", \"ticks\": \"\"}}, \"title\": {\"x\": 0.05}, \"xaxis\": {\"automargin\": true, \"gridcolor\": \"white\", \"linecolor\": \"white\", \"ticks\": \"\", \"title\": {\"standoff\": 15}, \"zerolinecolor\": \"white\", \"zerolinewidth\": 2}, \"yaxis\": {\"automargin\": true, \"gridcolor\": \"white\", \"linecolor\": \"white\", \"ticks\": \"\", \"title\": {\"standoff\": 15}, \"zerolinecolor\": \"white\", \"zerolinewidth\": 2}}}, \"title\": {\"text\": \"\\ub7f0\\ub2dd\\ub9e8 \\uc2dc\\uccad\\ub960(\\ub2d0\\uc2a8)\"}, \"xaxis\": {\"anchor\": \"y\", \"domain\": [0.0, 1.0], \"title\": {\"text\": \"\\ubc29\\uc601\\uc77c\"}}, \"yaxis\": {\"anchor\": \"x\", \"domain\": [0.0, 1.0], \"title\": {\"text\": \"value\"}}},                        {\"responsive\": true}                    ).then(function(){\n",
       "                            \n",
       "var gd = document.getElementById('0acdeb60-ba74-4d63-9af7-3542a446c6b8');\n",
       "var x = new MutationObserver(function (mutations, observer) {{\n",
       "        var display = window.getComputedStyle(gd).display;\n",
       "        if (!display || display === 'none') {{\n",
       "            console.log([gd, 'removed!']);\n",
       "            Plotly.purge(gd);\n",
       "            observer.disconnect();\n",
       "        }}\n",
       "}});\n",
       "\n",
       "// Listen for the removal of the full notebook cells\n",
       "var notebookContainer = gd.closest('#notebook-container');\n",
       "if (notebookContainer) {{\n",
       "    x.observe(notebookContainer, {childList: true});\n",
       "}}\n",
       "\n",
       "// Listen for the clearing of the current output cell\n",
       "var outputEl = gd.closest('.output');\n",
       "if (outputEl) {{\n",
       "    x.observe(outputEl, {childList: true});\n",
       "}}\n",
       "\n",
       "                        })                };                });            </script>        </div>"
      ]
     },
     "metadata": {},
     "output_type": "display_data"
    }
   ],
   "source": [
    "#fig=px.line(df, x='방영일', y=['닐슨','TNMS'] ,title = '런닝맨 시청률(닐슨)')\n",
    "#fig.show()"
   ]
  },
  {
   "cell_type": "markdown",
   "metadata": {},
   "source": [
    "* 12월 8일 TNMS 시청율에 특이값-> 8.4%를 8,4%로 오타 낸 것으로 보임"
   ]
  },
  {
   "cell_type": "code",
   "execution_count": 119,
   "metadata": {},
   "outputs": [],
   "source": [
    "# 오타 수정\n",
    "#df.loc[df['방영일'] =='12.08','TNMS'] = '8.5%'"
   ]
  },
  {
   "cell_type": "code",
   "execution_count": 48,
   "metadata": {},
   "outputs": [
    {
     "data": {
      "text/html": [
       "<div>                            <div id=\"e858c1ab-97c5-4bb7-ae26-0f8c468f5a83\" class=\"plotly-graph-div\" style=\"height:525px; width:100%;\"></div>            <script type=\"text/javascript\">                require([\"plotly\"], function(Plotly) {                    window.PLOTLYENV=window.PLOTLYENV || {};                                    if (document.getElementById(\"e858c1ab-97c5-4bb7-ae26-0f8c468f5a83\")) {                    Plotly.newPlot(                        \"e858c1ab-97c5-4bb7-ae26-0f8c468f5a83\",                        [{\"hovertemplate\": \"\\uc870\\uc0ac\\uae30\\uad00=\\ub2d0\\uc2a8<br>\\ubc29\\uc601\\uc77c=%{x}<br>\\uc2dc\\uccad\\uc728=%{y}<extra></extra>\", \"legendgroup\": \"\\ub2d0\\uc2a8\", \"line\": {\"color\": \"#636efa\", \"dash\": \"solid\", \"shape\": \"linear\"}, \"mode\": \"lines\", \"name\": \"\\ub2d0\\uc2a8\", \"orientation\": \"v\", \"showlegend\": true, \"type\": \"scatter\", \"x\": [\"2020-01-06T00:00:00\", \"2020-01-13T00:00:00\", \"2020-01-20T00:00:00\", \"2020-01-27T00:00:00\", \"2020-02-03T00:00:00\", \"2020-02-10T00:00:00\", \"2020-02-17T00:00:00\", \"2020-02-24T00:00:00\", \"2020-03-03T00:00:00\", \"2020-03-10T00:00:00\", \"2020-03-17T00:00:00\", \"2020-03-24T00:00:00\", \"2020-03-31T00:00:00\", \"2020-04-07T00:00:00\", \"2020-04-14T00:00:00\", \"2020-04-21T00:00:00\", \"2020-04-28T00:00:00\", \"2020-05-05T00:00:00\", \"2020-05-12T00:00:00\", \"2020-05-19T00:00:00\", \"2020-05-26T00:00:00\", \"2020-06-02T00:00:00\", \"2020-06-09T00:00:00\", \"2020-06-16T00:00:00\", \"2020-06-23T00:00:00\", \"2020-07-07T00:00:00\", \"2020-07-14T00:00:00\", \"2020-07-21T00:00:00\", \"2020-07-28T00:00:00\", \"2020-08-04T00:00:00\", \"2020-08-11T00:00:00\", \"2020-08-18T00:00:00\", \"2020-08-25T00:00:00\", \"2020-09-01T00:00:00\", \"2020-09-08T00:00:00\", \"2020-09-15T00:00:00\", \"2020-09-22T00:00:00\", \"2020-09-29T00:00:00\", \"2020-10-06T00:00:00\", \"2020-10-13T00:00:00\", \"2020-10-20T00:00:00\", \"2020-10-27T00:00:00\", \"2020-11-03T00:00:00\", \"2020-11-10T00:00:00\", \"2020-11-17T00:00:00\", \"2020-11-24T00:00:00\", \"2020-12-01T00:00:00\", \"2020-12-08T00:00:00\", \"2020-12-15T00:00:00\", \"2020-12-22T00:00:00\", \"2020-12-29T00:00:00\"], \"xaxis\": \"x\", \"y\": [\"7.3%\", \"6.4%\", \"7.3%\", \"6.0%\", \"6.2%\", \"7.8%\", \"6.7%\", \"6.5%\", \"6.5%\", \"6.7%\", \"7.5%\", \"6.7%\", \"6.9%\", \"6.5%\", \"6.7%\", \"6.0%\", \"7.0%\", \"5.4%\", \"6.4%\", \"8.1%\", \"6.0%\", \"6.1%\", \"6.6%\", \"6.3%\", \"6.4%\", \"6.4%\", \"5.1%\", \"6.9%\", \"7.1%\", \"5.7%\", \"6.2%\", \"6.1%\", \"6.4%\", \"5.7%\", \"6.7%\", \"6.3%\", \"7.4%\", \"6.2%\", \"6.8%\", \"6.1%\", \"6.2%\", \"6.5%\", \"6.6%\", \"7.3%\", \"7.9%\", \"6.8%\", \"7.1%\", \"7.0%\", \"7.3%\", \"7.4%\", \"6.8%\"], \"yaxis\": \"y\"}, {\"hovertemplate\": \"\\uc870\\uc0ac\\uae30\\uad00=TNMS<br>\\ubc29\\uc601\\uc77c=%{x}<br>\\uc2dc\\uccad\\uc728=%{y}<extra></extra>\", \"legendgroup\": \"TNMS\", \"line\": {\"color\": \"#EF553B\", \"dash\": \"solid\", \"shape\": \"linear\"}, \"mode\": \"lines\", \"name\": \"TNMS\", \"orientation\": \"v\", \"showlegend\": true, \"type\": \"scatter\", \"x\": [\"2020-01-06T00:00:00\", \"2020-01-13T00:00:00\", \"2020-01-20T00:00:00\", \"2020-01-27T00:00:00\", \"2020-02-03T00:00:00\", \"2020-02-10T00:00:00\", \"2020-02-17T00:00:00\", \"2020-02-24T00:00:00\", \"2020-03-03T00:00:00\", \"2020-03-10T00:00:00\", \"2020-03-17T00:00:00\", \"2020-03-24T00:00:00\", \"2020-03-31T00:00:00\", \"2020-04-07T00:00:00\", \"2020-04-14T00:00:00\", \"2020-04-21T00:00:00\", \"2020-04-28T00:00:00\", \"2020-05-05T00:00:00\", \"2020-05-12T00:00:00\", \"2020-05-19T00:00:00\", \"2020-05-26T00:00:00\", \"2020-06-02T00:00:00\", \"2020-06-09T00:00:00\", \"2020-06-16T00:00:00\", \"2020-06-23T00:00:00\", \"2020-07-07T00:00:00\", \"2020-07-14T00:00:00\", \"2020-07-21T00:00:00\", \"2020-07-28T00:00:00\", \"2020-08-04T00:00:00\", \"2020-08-11T00:00:00\", \"2020-08-18T00:00:00\", \"2020-08-25T00:00:00\", \"2020-09-01T00:00:00\", \"2020-09-08T00:00:00\", \"2020-09-15T00:00:00\", \"2020-09-22T00:00:00\", \"2020-09-29T00:00:00\", \"2020-10-06T00:00:00\", \"2020-10-13T00:00:00\", \"2020-10-20T00:00:00\", \"2020-10-27T00:00:00\", \"2020-11-03T00:00:00\", \"2020-11-10T00:00:00\", \"2020-11-17T00:00:00\", \"2020-11-24T00:00:00\", \"2020-12-01T00:00:00\", \"2020-12-08T00:00:00\", \"2020-12-15T00:00:00\", \"2020-12-22T00:00:00\", \"2020-12-29T00:00:00\"], \"xaxis\": \"x\", \"y\": [\"8.2%\", \"7.2%\", \"6.9%\", \"7.6%\", \"7.1%\", \"8.0%\", \"7.9%\", \"7.1%\", \"6.4%\", \"6.9%\", \"7.4%\", \"7.2%\", \"8.3%\", \"6.7%\", \"7.2%\", \"6.6%\", \"7.2%\", \"5.9%\", \"7.2%\", \"8.2%\", \"7.2%\", \"6.3%\", \"6.5%\", \"6.4%\", \"7.1%\", \"7.7%\", \"5.3%\", \"7.1%\", \"7.3%\", \"6.0%\", \"6.5%\", \"6.4%\", \"7.1%\", \"7.0%\", \"8.0%\", \"7.3%\", \"8.1%\", \"7.4%\", \"7.3%\", \"7.4%\", \"6.8%\", \"7.8%\", \"7.4%\", \"8.2%\", \"7.9%\", \"7.5%\", \"8.5%\", \"8.4%\", \"7.3%\", \"7.3%\", \"7.0%\"], \"yaxis\": \"y\"}],                        {\"legend\": {\"title\": {\"text\": \"\\uc870\\uc0ac\\uae30\\uad00\"}, \"tracegroupgap\": 0}, \"template\": {\"data\": {\"bar\": [{\"error_x\": {\"color\": \"#2a3f5f\"}, \"error_y\": {\"color\": \"#2a3f5f\"}, \"marker\": {\"line\": {\"color\": \"#E5ECF6\", \"width\": 0.5}}, \"type\": \"bar\"}], \"barpolar\": [{\"marker\": {\"line\": {\"color\": \"#E5ECF6\", \"width\": 0.5}}, \"type\": \"barpolar\"}], \"carpet\": [{\"aaxis\": {\"endlinecolor\": \"#2a3f5f\", \"gridcolor\": \"white\", \"linecolor\": \"white\", \"minorgridcolor\": \"white\", \"startlinecolor\": \"#2a3f5f\"}, \"baxis\": {\"endlinecolor\": \"#2a3f5f\", \"gridcolor\": \"white\", \"linecolor\": \"white\", \"minorgridcolor\": \"white\", \"startlinecolor\": \"#2a3f5f\"}, \"type\": \"carpet\"}], \"choropleth\": [{\"colorbar\": {\"outlinewidth\": 0, \"ticks\": \"\"}, \"type\": \"choropleth\"}], \"contour\": [{\"colorbar\": {\"outlinewidth\": 0, \"ticks\": \"\"}, \"colorscale\": [[0.0, \"#0d0887\"], [0.1111111111111111, \"#46039f\"], [0.2222222222222222, \"#7201a8\"], [0.3333333333333333, \"#9c179e\"], [0.4444444444444444, \"#bd3786\"], [0.5555555555555556, \"#d8576b\"], [0.6666666666666666, \"#ed7953\"], [0.7777777777777778, \"#fb9f3a\"], [0.8888888888888888, \"#fdca26\"], [1.0, \"#f0f921\"]], \"type\": \"contour\"}], \"contourcarpet\": [{\"colorbar\": {\"outlinewidth\": 0, \"ticks\": \"\"}, \"type\": \"contourcarpet\"}], \"heatmap\": [{\"colorbar\": {\"outlinewidth\": 0, \"ticks\": \"\"}, \"colorscale\": [[0.0, \"#0d0887\"], [0.1111111111111111, \"#46039f\"], [0.2222222222222222, \"#7201a8\"], [0.3333333333333333, \"#9c179e\"], [0.4444444444444444, \"#bd3786\"], [0.5555555555555556, \"#d8576b\"], [0.6666666666666666, \"#ed7953\"], [0.7777777777777778, \"#fb9f3a\"], [0.8888888888888888, \"#fdca26\"], [1.0, \"#f0f921\"]], \"type\": \"heatmap\"}], \"heatmapgl\": [{\"colorbar\": {\"outlinewidth\": 0, \"ticks\": \"\"}, \"colorscale\": [[0.0, \"#0d0887\"], [0.1111111111111111, \"#46039f\"], [0.2222222222222222, \"#7201a8\"], [0.3333333333333333, \"#9c179e\"], [0.4444444444444444, \"#bd3786\"], [0.5555555555555556, \"#d8576b\"], [0.6666666666666666, \"#ed7953\"], [0.7777777777777778, \"#fb9f3a\"], [0.8888888888888888, \"#fdca26\"], [1.0, \"#f0f921\"]], \"type\": \"heatmapgl\"}], \"histogram\": [{\"marker\": {\"colorbar\": {\"outlinewidth\": 0, \"ticks\": \"\"}}, \"type\": \"histogram\"}], \"histogram2d\": [{\"colorbar\": {\"outlinewidth\": 0, \"ticks\": \"\"}, \"colorscale\": [[0.0, \"#0d0887\"], [0.1111111111111111, \"#46039f\"], [0.2222222222222222, \"#7201a8\"], [0.3333333333333333, \"#9c179e\"], [0.4444444444444444, \"#bd3786\"], [0.5555555555555556, \"#d8576b\"], [0.6666666666666666, \"#ed7953\"], [0.7777777777777778, \"#fb9f3a\"], [0.8888888888888888, \"#fdca26\"], [1.0, \"#f0f921\"]], \"type\": \"histogram2d\"}], \"histogram2dcontour\": [{\"colorbar\": {\"outlinewidth\": 0, \"ticks\": \"\"}, \"colorscale\": [[0.0, \"#0d0887\"], [0.1111111111111111, \"#46039f\"], [0.2222222222222222, \"#7201a8\"], [0.3333333333333333, \"#9c179e\"], [0.4444444444444444, \"#bd3786\"], [0.5555555555555556, \"#d8576b\"], [0.6666666666666666, \"#ed7953\"], [0.7777777777777778, \"#fb9f3a\"], [0.8888888888888888, \"#fdca26\"], [1.0, \"#f0f921\"]], \"type\": \"histogram2dcontour\"}], \"mesh3d\": [{\"colorbar\": {\"outlinewidth\": 0, \"ticks\": \"\"}, \"type\": \"mesh3d\"}], \"parcoords\": [{\"line\": {\"colorbar\": {\"outlinewidth\": 0, \"ticks\": \"\"}}, \"type\": \"parcoords\"}], \"pie\": [{\"automargin\": true, \"type\": \"pie\"}], \"scatter\": [{\"marker\": {\"colorbar\": {\"outlinewidth\": 0, \"ticks\": \"\"}}, \"type\": \"scatter\"}], \"scatter3d\": [{\"line\": {\"colorbar\": {\"outlinewidth\": 0, \"ticks\": \"\"}}, \"marker\": {\"colorbar\": {\"outlinewidth\": 0, \"ticks\": \"\"}}, \"type\": \"scatter3d\"}], \"scattercarpet\": [{\"marker\": {\"colorbar\": {\"outlinewidth\": 0, \"ticks\": \"\"}}, \"type\": \"scattercarpet\"}], \"scattergeo\": [{\"marker\": {\"colorbar\": {\"outlinewidth\": 0, \"ticks\": \"\"}}, \"type\": \"scattergeo\"}], \"scattergl\": [{\"marker\": {\"colorbar\": {\"outlinewidth\": 0, \"ticks\": \"\"}}, \"type\": \"scattergl\"}], \"scattermapbox\": [{\"marker\": {\"colorbar\": {\"outlinewidth\": 0, \"ticks\": \"\"}}, \"type\": \"scattermapbox\"}], \"scatterpolar\": [{\"marker\": {\"colorbar\": {\"outlinewidth\": 0, \"ticks\": \"\"}}, \"type\": \"scatterpolar\"}], \"scatterpolargl\": [{\"marker\": {\"colorbar\": {\"outlinewidth\": 0, \"ticks\": \"\"}}, \"type\": \"scatterpolargl\"}], \"scatterternary\": [{\"marker\": {\"colorbar\": {\"outlinewidth\": 0, \"ticks\": \"\"}}, \"type\": \"scatterternary\"}], \"surface\": [{\"colorbar\": {\"outlinewidth\": 0, \"ticks\": \"\"}, \"colorscale\": [[0.0, \"#0d0887\"], [0.1111111111111111, \"#46039f\"], [0.2222222222222222, \"#7201a8\"], [0.3333333333333333, \"#9c179e\"], [0.4444444444444444, \"#bd3786\"], [0.5555555555555556, \"#d8576b\"], [0.6666666666666666, \"#ed7953\"], [0.7777777777777778, \"#fb9f3a\"], [0.8888888888888888, \"#fdca26\"], [1.0, \"#f0f921\"]], \"type\": \"surface\"}], \"table\": [{\"cells\": {\"fill\": {\"color\": \"#EBF0F8\"}, \"line\": {\"color\": \"white\"}}, \"header\": {\"fill\": {\"color\": \"#C8D4E3\"}, \"line\": {\"color\": \"white\"}}, \"type\": \"table\"}]}, \"layout\": {\"annotationdefaults\": {\"arrowcolor\": \"#2a3f5f\", \"arrowhead\": 0, \"arrowwidth\": 1}, \"coloraxis\": {\"colorbar\": {\"outlinewidth\": 0, \"ticks\": \"\"}}, \"colorscale\": {\"diverging\": [[0, \"#8e0152\"], [0.1, \"#c51b7d\"], [0.2, \"#de77ae\"], [0.3, \"#f1b6da\"], [0.4, \"#fde0ef\"], [0.5, \"#f7f7f7\"], [0.6, \"#e6f5d0\"], [0.7, \"#b8e186\"], [0.8, \"#7fbc41\"], [0.9, \"#4d9221\"], [1, \"#276419\"]], \"sequential\": [[0.0, \"#0d0887\"], [0.1111111111111111, \"#46039f\"], [0.2222222222222222, \"#7201a8\"], [0.3333333333333333, \"#9c179e\"], [0.4444444444444444, \"#bd3786\"], [0.5555555555555556, \"#d8576b\"], [0.6666666666666666, \"#ed7953\"], [0.7777777777777778, \"#fb9f3a\"], [0.8888888888888888, \"#fdca26\"], [1.0, \"#f0f921\"]], \"sequentialminus\": [[0.0, \"#0d0887\"], [0.1111111111111111, \"#46039f\"], [0.2222222222222222, \"#7201a8\"], [0.3333333333333333, \"#9c179e\"], [0.4444444444444444, \"#bd3786\"], [0.5555555555555556, \"#d8576b\"], [0.6666666666666666, \"#ed7953\"], [0.7777777777777778, \"#fb9f3a\"], [0.8888888888888888, \"#fdca26\"], [1.0, \"#f0f921\"]]}, \"colorway\": [\"#636efa\", \"#EF553B\", \"#00cc96\", \"#ab63fa\", \"#FFA15A\", \"#19d3f3\", \"#FF6692\", \"#B6E880\", \"#FF97FF\", \"#FECB52\"], \"font\": {\"color\": \"#2a3f5f\"}, \"geo\": {\"bgcolor\": \"white\", \"lakecolor\": \"white\", \"landcolor\": \"#E5ECF6\", \"showlakes\": true, \"showland\": true, \"subunitcolor\": \"white\"}, \"hoverlabel\": {\"align\": \"left\"}, \"hovermode\": \"closest\", \"mapbox\": {\"style\": \"light\"}, \"paper_bgcolor\": \"white\", \"plot_bgcolor\": \"#E5ECF6\", \"polar\": {\"angularaxis\": {\"gridcolor\": \"white\", \"linecolor\": \"white\", \"ticks\": \"\"}, \"bgcolor\": \"#E5ECF6\", \"radialaxis\": {\"gridcolor\": \"white\", \"linecolor\": \"white\", \"ticks\": \"\"}}, \"scene\": {\"xaxis\": {\"backgroundcolor\": \"#E5ECF6\", \"gridcolor\": \"white\", \"gridwidth\": 2, \"linecolor\": \"white\", \"showbackground\": true, \"ticks\": \"\", \"zerolinecolor\": \"white\"}, \"yaxis\": {\"backgroundcolor\": \"#E5ECF6\", \"gridcolor\": \"white\", \"gridwidth\": 2, \"linecolor\": \"white\", \"showbackground\": true, \"ticks\": \"\", \"zerolinecolor\": \"white\"}, \"zaxis\": {\"backgroundcolor\": \"#E5ECF6\", \"gridcolor\": \"white\", \"gridwidth\": 2, \"linecolor\": \"white\", \"showbackground\": true, \"ticks\": \"\", \"zerolinecolor\": \"white\"}}, \"shapedefaults\": {\"line\": {\"color\": \"#2a3f5f\"}}, \"ternary\": {\"aaxis\": {\"gridcolor\": \"white\", \"linecolor\": \"white\", \"ticks\": \"\"}, \"baxis\": {\"gridcolor\": \"white\", \"linecolor\": \"white\", \"ticks\": \"\"}, \"bgcolor\": \"#E5ECF6\", \"caxis\": {\"gridcolor\": \"white\", \"linecolor\": \"white\", \"ticks\": \"\"}}, \"title\": {\"x\": 0.05}, \"xaxis\": {\"automargin\": true, \"gridcolor\": \"white\", \"linecolor\": \"white\", \"ticks\": \"\", \"title\": {\"standoff\": 15}, \"zerolinecolor\": \"white\", \"zerolinewidth\": 2}, \"yaxis\": {\"automargin\": true, \"gridcolor\": \"white\", \"linecolor\": \"white\", \"ticks\": \"\", \"title\": {\"standoff\": 15}, \"zerolinecolor\": \"white\", \"zerolinewidth\": 2}}}, \"title\": {\"text\": \"\\ub7f0\\ub2dd\\ub9e8 \\uc2dc\\uccad\\ub960(\\ub2d0\\uc2a8&TNMS)\"}, \"xaxis\": {\"anchor\": \"y\", \"domain\": [0.0, 1.0], \"title\": {\"text\": \"\\ubc29\\uc601\\uc77c\"}}, \"yaxis\": {\"anchor\": \"x\", \"domain\": [0.0, 1.0], \"title\": {\"text\": \"\\uc2dc\\uccad\\uc728\"}}},                        {\"responsive\": true}                    ).then(function(){\n",
       "                            \n",
       "var gd = document.getElementById('e858c1ab-97c5-4bb7-ae26-0f8c468f5a83');\n",
       "var x = new MutationObserver(function (mutations, observer) {{\n",
       "        var display = window.getComputedStyle(gd).display;\n",
       "        if (!display || display === 'none') {{\n",
       "            console.log([gd, 'removed!']);\n",
       "            Plotly.purge(gd);\n",
       "            observer.disconnect();\n",
       "        }}\n",
       "}});\n",
       "\n",
       "// Listen for the removal of the full notebook cells\n",
       "var notebookContainer = gd.closest('#notebook-container');\n",
       "if (notebookContainer) {{\n",
       "    x.observe(notebookContainer, {childList: true});\n",
       "}}\n",
       "\n",
       "// Listen for the clearing of the current output cell\n",
       "var outputEl = gd.closest('.output');\n",
       "if (outputEl) {{\n",
       "    x.observe(outputEl, {childList: true});\n",
       "}}\n",
       "\n",
       "                        })                };                });            </script>        </div>"
      ]
     },
     "metadata": {},
     "output_type": "display_data"
    }
   ],
   "source": [
    "fig=px.line(df, x='방영일', y=['닐슨','TNMS'] ,title = '런닝맨 시청률(닐슨&TNMS)',line_shape='linear', \n",
    "            labels={\n",
    "                     \"방영일\": \"방영일\",\n",
    "                     \"value\": \"시청율\",\n",
    "                     \"variable\": \"조사기관\"\n",
    "                 })\n",
    "fig.show()"
   ]
  },
  {
   "cell_type": "code",
   "execution_count": null,
   "metadata": {},
   "outputs": [],
   "source": []
  },
  {
   "cell_type": "code",
   "execution_count": null,
   "metadata": {},
   "outputs": [],
   "source": []
  },
  {
   "cell_type": "code",
   "execution_count": 35,
   "metadata": {},
   "outputs": [
    {
     "data": {
      "text/html": [
       "<style>.container {width:90% !important;}</style>"
      ],
      "text/plain": [
       "<IPython.core.display.HTML object>"
      ]
     },
     "metadata": {},
     "output_type": "display_data"
    }
   ],
   "source": []
  },
  {
   "cell_type": "code",
   "execution_count": null,
   "metadata": {},
   "outputs": [],
   "source": []
  }
 ],
 "metadata": {
  "kernelspec": {
   "display_name": "Python 3",
   "language": "python",
   "name": "python3"
  },
  "language_info": {
   "codemirror_mode": {
    "name": "ipython",
    "version": 3
   },
   "file_extension": ".py",
   "mimetype": "text/x-python",
   "name": "python",
   "nbconvert_exporter": "python",
   "pygments_lexer": "ipython3",
   "version": "3.8.3"
  }
 },
 "nbformat": 4,
 "nbformat_minor": 4
}
