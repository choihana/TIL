{
 "cells": [
  {
   "cell_type": "markdown",
   "metadata": {},
   "source": [
    "데잇걸즈 파이썬 톺아보기 과제로 진행했습니다."
   ]
  },
  {
   "cell_type": "markdown",
   "metadata": {},
   "source": [
    "# 과제. BeautifulSoup을 이용하여 아래의 세 기사의 제목과 언론사를 크롤링해주세요!\n",
    "* for문을 이용하여 url 각각의 기사제목과 언론사를 가져와주세요\n",
    "* 가져온 정보를 아래와 같이 DataFrame으로 만들어 주세요"
   ]
  },
  {
   "cell_type": "markdown",
   "metadata": {},
   "source": [
    "|title|company|url|\n",
    "|------|---|---|\n",
    "|13일부터 마스크 착용 의무화..한 달 계도 후 과태료 10만 원|YTN|https://news.v.daum.net/v/20201004215700006|\n",
    "|\"사망 10대와 같은 곳서 같은 백신 접종한 32명, 이상반응 없어\"|연합뉴스|https://news.v.daum.net/v/20201020153505519|\n",
    "|지하수에 사는 '골룸 가물치'야, 넌 어디서 왔니|한겨레|https://news.v.daum.net/v/20201020153609574|\n",
    "\n"
   ]
  },
  {
   "cell_type": "code",
   "execution_count": 46,
   "metadata": {},
   "outputs": [],
   "source": [
    "crawl_url = [\"https://news.v.daum.net/v/20201004215700006\", \"https://news.v.daum.net/v/20201020153505519\", \"https://news.v.daum.net/v/20201020153609574\"]"
   ]
  },
  {
   "cell_type": "markdown",
   "metadata": {},
   "source": [
    "## import library"
   ]
  },
  {
   "cell_type": "code",
   "execution_count": 53,
   "metadata": {},
   "outputs": [],
   "source": [
    "import requests\n",
    "from bs4 import BeautifulSoup as bs\n",
    "import pandas as pd"
   ]
  },
  {
   "cell_type": "markdown",
   "metadata": {},
   "source": [
    "## 데이터 읽어오기 \n",
    "\n",
    "- requests.get(): 서버에 데이터 요청해서 가져오기\n",
    "- bs(res.content,'html.parser'): BeautifulSoup으로 깔끔하게 바꿔주기"
   ]
  },
  {
   "cell_type": "code",
   "execution_count": 8,
   "metadata": {},
   "outputs": [],
   "source": [
    "res = requests.get(\"https://news.v.daum.net/v/20201004215700006\")"
   ]
  },
  {
   "cell_type": "code",
   "execution_count": 9,
   "metadata": {},
   "outputs": [],
   "source": [
    "soup = bs(res.content, 'html.parser')"
   ]
  },
  {
   "cell_type": "markdown",
   "metadata": {},
   "source": [
    "## BeautifulSoup의 메서드 활용해서 원하는 데이터 뽑기"
   ]
  },
  {
   "cell_type": "markdown",
   "metadata": {},
   "source": [
    "### 1) 기사 타이틀 가져오기\n",
    "- find(태그명)\n",
    "- 위에 방법 안되면 select"
   ]
  },
  {
   "cell_type": "code",
   "execution_count": 44,
   "metadata": {},
   "outputs": [
    {
     "data": {
      "text/plain": [
       "'13일부터 마스크 착용 의무화..한 달 계도 후 과태료 10만 원'"
      ]
     },
     "execution_count": 44,
     "metadata": {},
     "output_type": "execute_result"
    }
   ],
   "source": [
    "# find(태그명): title 태그 잘 사용했으니, select로 따로 부르지 않아도 된다.(다행)\n",
    "soup.find('title').text"
   ]
  },
  {
   "cell_type": "code",
   "execution_count": null,
   "metadata": {},
   "outputs": [],
   "source": []
  },
  {
   "cell_type": "markdown",
   "metadata": {},
   "source": [
    "### 2) 언론사 이름 가져오기\n",
    "\n",
    "기사 끝나는 하단에 **(언론사 이름) 주요 뉴스** 섹션이 있다.\n",
    "\n",
    "이 부분을 검사해서 가져와보자\n",
    "\n",
    "-> 문장으로 출력돼서 후 가공 필요하다."
   ]
  },
  {
   "cell_type": "code",
   "execution_count": 14,
   "metadata": {},
   "outputs": [
    {
     "data": {
      "text/plain": [
       "[<strong class=\"tit_cp\">YTN 주요 뉴스<span class=\"info_cp\">해당 언론사로 연결됩니다.</span></strong>]"
      ]
     },
     "execution_count": 14,
     "metadata": {},
     "output_type": "execute_result"
    }
   ],
   "source": [
    "# copy selector 로 가져옴\n",
    "soup.select('#mArticle > div.foot_view > div.cp_view > strong')"
   ]
  },
  {
   "cell_type": "code",
   "execution_count": 20,
   "metadata": {},
   "outputs": [
    {
     "data": {
      "text/plain": [
       "'YTN 주요 뉴스해당 언론사로 연결됩니다.'"
      ]
     },
     "execution_count": 20,
     "metadata": {},
     "output_type": "execute_result"
    }
   ],
   "source": [
    "# 클래스 명으로 가져옴\n",
    "soup.select('.tit_cp')[0].text"
   ]
  },
  {
   "cell_type": "markdown",
   "metadata": {},
   "source": [
    "기사 타이틀 위에 회사 로고 이미지에 alt속성 값으로 회사명이 들어있다. \n",
    "\n",
    "img 태그의 alt 속성값을 가져오자\n",
    "\n",
    "* 참고 <a href='https://stackoverflow.com/questions/20649048/display-text-from-img-alt-tag-with-beautifulsoup'> stack overflow </a>"
   ]
  },
  {
   "cell_type": "code",
   "execution_count": 34,
   "metadata": {},
   "outputs": [
    {
     "name": "stdout",
     "output_type": "stream",
     "text": [
      "Daum\n",
      "YTN\n"
     ]
    }
   ],
   "source": [
    "#find_all(태그명)은 리스트로 값을 반환하기때문에 for문 in 뒤에 바로 써 줄 수 있다.\n",
    "#alt = True 파라미터로 alt값이 있는 태그만 가져올 수 있다. \n",
    "for i in soup.find_all('img',alt=True):\n",
    "    print(i['alt'])"
   ]
  },
  {
   "cell_type": "code",
   "execution_count": 43,
   "metadata": {},
   "outputs": [
    {
     "data": {
      "text/plain": [
       "'YTN'"
      ]
     },
     "execution_count": 43,
     "metadata": {},
     "output_type": "execute_result"
    }
   ],
   "source": [
    "#위에 for문에서 1번째 인덱스에 있는것 확인\n",
    "soup.find_all('img',alt=True)[1]['alt']"
   ]
  },
  {
   "cell_type": "markdown",
   "metadata": {},
   "source": [
    "## 함수 만들기\n",
    "\n",
    "3개의 기사가 같은 플랫폼이기 때문에, 구조가 같을거라고 가정하고 url을 전달하면 원하는 데이터를 출력해주는 함수를 만들어보자"
   ]
  },
  {
   "cell_type": "code",
   "execution_count": 70,
   "metadata": {},
   "outputs": [],
   "source": [
    "# title \n",
    "def get_title(url):\n",
    "    res = requests.get(url)\n",
    "    soup = bs(res.content, 'html.parser')\n",
    "    title=soup.find('title').text\n",
    "    return title"
   ]
  },
  {
   "cell_type": "code",
   "execution_count": 71,
   "metadata": {},
   "outputs": [],
   "source": [
    "# company\n",
    "def get_company(url):\n",
    "    res = requests.get(url)\n",
    "    soup = bs(res.content, 'html.parser')\n",
    "    company=soup.find_all('img',alt=True)[1]['alt']\n",
    "    return company"
   ]
  },
  {
   "cell_type": "code",
   "execution_count": 76,
   "metadata": {},
   "outputs": [],
   "source": [
    "title = []\n",
    "company = []\n",
    "\n",
    "for url in crawl_url:\n",
    "    # 함수에서 크롤링 실행\n",
    "    t = get_title(url)\n",
    "    c = get_company(url)\n",
    "    \n",
    "    # 얻어온 값 리스트에 추가 (데이터프레임에 넣기위해)\n",
    "    title.append(t)\n",
    "    company.append(c)"
   ]
  },
  {
   "cell_type": "code",
   "execution_count": 77,
   "metadata": {},
   "outputs": [
    {
     "data": {
      "text/html": [
       "<div>\n",
       "<style scoped>\n",
       "    .dataframe tbody tr th:only-of-type {\n",
       "        vertical-align: middle;\n",
       "    }\n",
       "\n",
       "    .dataframe tbody tr th {\n",
       "        vertical-align: top;\n",
       "    }\n",
       "\n",
       "    .dataframe thead th {\n",
       "        text-align: right;\n",
       "    }\n",
       "</style>\n",
       "<table border=\"1\" class=\"dataframe\">\n",
       "  <thead>\n",
       "    <tr style=\"text-align: right;\">\n",
       "      <th></th>\n",
       "      <th>title</th>\n",
       "      <th>company</th>\n",
       "      <th>url</th>\n",
       "    </tr>\n",
       "  </thead>\n",
       "  <tbody>\n",
       "    <tr>\n",
       "      <th>0</th>\n",
       "      <td>13일부터 마스크 착용 의무화..한 달 계도 후 과태료 10만 원</td>\n",
       "      <td>YTN</td>\n",
       "      <td>https://news.v.daum.net/v/20201004215700006</td>\n",
       "    </tr>\n",
       "    <tr>\n",
       "      <th>1</th>\n",
       "      <td>\"사망 10대와 같은 곳서 같은 백신 접종한 32명, 이상반응 없어\"</td>\n",
       "      <td>연합뉴스</td>\n",
       "      <td>https://news.v.daum.net/v/20201020153505519</td>\n",
       "    </tr>\n",
       "    <tr>\n",
       "      <th>2</th>\n",
       "      <td>지하수에 사는 '골룸 가물치'야, 넌 어디서 왔니</td>\n",
       "      <td>한겨레</td>\n",
       "      <td>https://news.v.daum.net/v/20201020153609574</td>\n",
       "    </tr>\n",
       "  </tbody>\n",
       "</table>\n",
       "</div>"
      ],
      "text/plain": [
       "                                    title company  \\\n",
       "0    13일부터 마스크 착용 의무화..한 달 계도 후 과태료 10만 원     YTN   \n",
       "1  \"사망 10대와 같은 곳서 같은 백신 접종한 32명, 이상반응 없어\"    연합뉴스   \n",
       "2             지하수에 사는 '골룸 가물치'야, 넌 어디서 왔니     한겨레   \n",
       "\n",
       "                                           url  \n",
       "0  https://news.v.daum.net/v/20201004215700006  \n",
       "1  https://news.v.daum.net/v/20201020153505519  \n",
       "2  https://news.v.daum.net/v/20201020153609574  "
      ]
     },
     "execution_count": 77,
     "metadata": {},
     "output_type": "execute_result"
    }
   ],
   "source": [
    "# 데이터프레임 생성\n",
    "df=pd.DataFrame({\n",
    "    'title':title,\n",
    "    'company':company,\n",
    "    'url':crawl_url\n",
    "    })\n",
    "df"
   ]
  },
  {
   "cell_type": "markdown",
   "metadata": {},
   "source": [
    "## 함수 합치기\n",
    "\n",
    "- 중복 된 부분 줄여주자\n",
    "- python 함수에서 두개의 값을 동시에 튜플로 반환할 수 있음"
   ]
  },
  {
   "cell_type": "code",
   "execution_count": 80,
   "metadata": {},
   "outputs": [],
   "source": [
    "# title \n",
    "def get_title_company(url):\n",
    "    res = requests.get(url)\n",
    "    soup = bs(res.content, 'html.parser')\n",
    "    title=soup.find('title').text\n",
    "    company=soup.find_all('img',alt=True)[1]['alt']\n",
    "    return title,company"
   ]
  },
  {
   "cell_type": "code",
   "execution_count": 88,
   "metadata": {},
   "outputs": [],
   "source": [
    "title = []\n",
    "company = []\n",
    "\n",
    "for url in crawl_url:\n",
    "    # 함수에서 크롤링 실행\n",
    "    # 튜플로 리턴된 값을 각각 gt, gc 변수에 넣어준다.\n",
    "    gt, gc = get_title_company(url)\n",
    "\n",
    "    # 얻어온 값 리스트에 추가 (데이터프레임에 넣기위해)\n",
    "    title.append(gt)\n",
    "    company.append(gc)"
   ]
  },
  {
   "cell_type": "code",
   "execution_count": 89,
   "metadata": {},
   "outputs": [
    {
     "data": {
      "text/plain": [
       "['13일부터 마스크 착용 의무화..한 달 계도 후 과태료 10만 원',\n",
       " '\"사망 10대와 같은 곳서 같은 백신 접종한 32명, 이상반응 없어\"',\n",
       " \"지하수에 사는 '골룸 가물치'야, 넌 어디서 왔니\"]"
      ]
     },
     "execution_count": 89,
     "metadata": {},
     "output_type": "execute_result"
    }
   ],
   "source": [
    "title"
   ]
  },
  {
   "cell_type": "code",
   "execution_count": 90,
   "metadata": {},
   "outputs": [
    {
     "data": {
      "text/plain": [
       "['YTN', '연합뉴스', '한겨레']"
      ]
     },
     "execution_count": 90,
     "metadata": {},
     "output_type": "execute_result"
    }
   ],
   "source": [
    "company"
   ]
  },
  {
   "cell_type": "code",
   "execution_count": 91,
   "metadata": {},
   "outputs": [
    {
     "data": {
      "text/html": [
       "<div>\n",
       "<style scoped>\n",
       "    .dataframe tbody tr th:only-of-type {\n",
       "        vertical-align: middle;\n",
       "    }\n",
       "\n",
       "    .dataframe tbody tr th {\n",
       "        vertical-align: top;\n",
       "    }\n",
       "\n",
       "    .dataframe thead th {\n",
       "        text-align: right;\n",
       "    }\n",
       "</style>\n",
       "<table border=\"1\" class=\"dataframe\">\n",
       "  <thead>\n",
       "    <tr style=\"text-align: right;\">\n",
       "      <th></th>\n",
       "      <th>title</th>\n",
       "      <th>company</th>\n",
       "      <th>url</th>\n",
       "    </tr>\n",
       "  </thead>\n",
       "  <tbody>\n",
       "    <tr>\n",
       "      <th>0</th>\n",
       "      <td>13일부터 마스크 착용 의무화..한 달 계도 후 과태료 10만 원</td>\n",
       "      <td>YTN</td>\n",
       "      <td>https://news.v.daum.net/v/20201004215700006</td>\n",
       "    </tr>\n",
       "    <tr>\n",
       "      <th>1</th>\n",
       "      <td>\"사망 10대와 같은 곳서 같은 백신 접종한 32명, 이상반응 없어\"</td>\n",
       "      <td>연합뉴스</td>\n",
       "      <td>https://news.v.daum.net/v/20201020153505519</td>\n",
       "    </tr>\n",
       "    <tr>\n",
       "      <th>2</th>\n",
       "      <td>지하수에 사는 '골룸 가물치'야, 넌 어디서 왔니</td>\n",
       "      <td>한겨레</td>\n",
       "      <td>https://news.v.daum.net/v/20201020153609574</td>\n",
       "    </tr>\n",
       "  </tbody>\n",
       "</table>\n",
       "</div>"
      ],
      "text/plain": [
       "                                    title company  \\\n",
       "0    13일부터 마스크 착용 의무화..한 달 계도 후 과태료 10만 원     YTN   \n",
       "1  \"사망 10대와 같은 곳서 같은 백신 접종한 32명, 이상반응 없어\"    연합뉴스   \n",
       "2             지하수에 사는 '골룸 가물치'야, 넌 어디서 왔니     한겨레   \n",
       "\n",
       "                                           url  \n",
       "0  https://news.v.daum.net/v/20201004215700006  \n",
       "1  https://news.v.daum.net/v/20201020153505519  \n",
       "2  https://news.v.daum.net/v/20201020153609574  "
      ]
     },
     "execution_count": 91,
     "metadata": {},
     "output_type": "execute_result"
    }
   ],
   "source": [
    "# 데이터프레임 생성\n",
    "df=pd.DataFrame({\n",
    "    'title':title,\n",
    "    'company':company,\n",
    "    'url':crawl_url\n",
    "    })\n",
    "df"
   ]
  },
  {
   "cell_type": "code",
   "execution_count": null,
   "metadata": {},
   "outputs": [],
   "source": []
  },
  {
   "cell_type": "code",
   "execution_count": 93,
   "metadata": {},
   "outputs": [
    {
     "data": {
      "text/html": [
       "<style>.container {width:90% !important;}</style>"
      ],
      "text/plain": [
       "<IPython.core.display.HTML object>"
      ]
     },
     "metadata": {},
     "output_type": "display_data"
    }
   ],
   "source": [
    "from IPython.core.display import display, HTML\n",
    "display(HTML(\"<style>.container {width:90% !important;}</style>\"))"
   ]
  },
  {
   "cell_type": "code",
   "execution_count": null,
   "metadata": {},
   "outputs": [],
   "source": []
  }
 ],
 "metadata": {
  "kernelspec": {
   "display_name": "Python 3",
   "language": "python",
   "name": "python3"
  },
  "language_info": {
   "codemirror_mode": {
    "name": "ipython",
    "version": 3
   },
   "file_extension": ".py",
   "mimetype": "text/x-python",
   "name": "python",
   "nbconvert_exporter": "python",
   "pygments_lexer": "ipython3",
   "version": "3.8.3"
  }
 },
 "nbformat": 4,
 "nbformat_minor": 4
}
