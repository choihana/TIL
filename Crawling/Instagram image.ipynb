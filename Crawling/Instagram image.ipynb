{
 "cells": [
  {
   "cell_type": "markdown",
   "metadata": {},
   "source": [
    "## 필요한 라이브러리"
   ]
  },
  {
   "cell_type": "code",
   "execution_count": 3,
   "metadata": {},
   "outputs": [],
   "source": [
    "from selenium import webdriver\n",
    "from bs4 import BeautifulSoup as bs\n",
    "from urllib.request import urlopen\n",
    "from urllib.parse import quote_plus\n",
    "import time"
   ]
  },
  {
   "cell_type": "markdown",
   "metadata": {},
   "source": [
    "## Url 만들기"
   ]
  },
  {
   "cell_type": "code",
   "execution_count": 4,
   "metadata": {},
   "outputs": [],
   "source": [
    "url_서울신라호텔 = 'https://www.instagram.com/explore/tags/%EC%84%9C%EC%9A%B8%EC%8B%A0%EB%9D%BC%ED%98%B8%ED%85%94/'\n",
    "\n",
    "url_콘래드서울 = 'https://www.instagram.com/explore/tags/%EC%BD%98%EB%9E%98%EB%93%9C%EC%84%9C%EC%9A%B8/'"
   ]
  },
  {
   "cell_type": "code",
   "execution_count": 5,
   "metadata": {},
   "outputs": [
    {
     "name": "stdout",
     "output_type": "stream",
     "text": [
      "검색할 호텔명:콘래드서울\n",
      "https://www.instagram.com/explore/tags/%EC%BD%98%EB%9E%98%EB%93%9C%EC%84%9C%EC%9A%B8\n"
     ]
    }
   ],
   "source": [
    "baseUrl = 'https://www.instagram.com/explore/tags/'\n",
    "plusUrl = input('검색할 호텔명:')\n",
    "url = baseUrl + quote_plus(plusUrl)\n",
    "\n",
    "print(url)"
   ]
  },
  {
   "cell_type": "markdown",
   "metadata": {},
   "source": [
    "## webdriver로 크롬열기"
   ]
  },
  {
   "cell_type": "code",
   "execution_count": 101,
   "metadata": {},
   "outputs": [],
   "source": [
    "driver = webdriver.Chrome('./chromedriver')\n",
    "#페이지가 모두 로드될 때까지 3초 기다려주는 코드\n",
    "\n",
    "driver.get(url_서울신라호텔)\n",
    "time.sleep(5)\n",
    "\n",
    "html = driver.page_source\n",
    "soup = bs(html)\n",
    "\n",
    "insta_alt = []\n",
    "insta_url = []\n",
    "\n",
    "#스크롤 내리기 (더 많이 저장하고 싶으면 range 늘려주면 됨)\n",
    "for i in range(0,5):\n",
    "    \n",
    "    insta=soup.select('.v1Nh3.kIKUG._bz0w')\n",
    "    for i in insta:\n",
    "        insta_alt.append(i.find('div').find('div').find('img').get('alt'))\n",
    "        insta_url.append('https://www.instagram.com'+ insta[0].find('a').get('href'))\n",
    "    \n",
    "    driver.execute_script('window.scrollTo(0,document.body.scrollHeight);')\n",
    "    time.sleep(2)\n",
    "    \n",
    "driver.close()"
   ]
  },
  {
   "cell_type": "code",
   "execution_count": 105,
   "metadata": {},
   "outputs": [
    {
     "data": {
      "text/html": [
       "<div>\n",
       "<style scoped>\n",
       "    .dataframe tbody tr th:only-of-type {\n",
       "        vertical-align: middle;\n",
       "    }\n",
       "\n",
       "    .dataframe tbody tr th {\n",
       "        vertical-align: top;\n",
       "    }\n",
       "\n",
       "    .dataframe thead th {\n",
       "        text-align: right;\n",
       "    }\n",
       "</style>\n",
       "<table border=\"1\" class=\"dataframe\">\n",
       "  <thead>\n",
       "    <tr style=\"text-align: right;\">\n",
       "      <th></th>\n",
       "      <th>alt</th>\n",
       "      <th>url</th>\n",
       "    </tr>\n",
       "  </thead>\n",
       "  <tbody>\n",
       "    <tr>\n",
       "      <th>0</th>\n",
       "      <td>Photo by 𝒞𝒶𝓇𝓎_𝒹𝒶𝒾𝓁𝓎𝑔𝓇𝒶𝓂 in The Shilla Hotels &amp;...</td>\n",
       "      <td>https://www.instagram.com/p/CE8jy4vAytU/</td>\n",
       "    </tr>\n",
       "    <tr>\n",
       "      <th>1</th>\n",
       "      <td>Photo by 𝒞𝒶𝓇𝓎_𝒹𝒶𝒾𝓁𝓎𝑔𝓇𝒶𝓂 in The Shilla Hotels &amp;...</td>\n",
       "      <td>https://www.instagram.com/p/CE8jy4vAytU/</td>\n",
       "    </tr>\n",
       "    <tr>\n",
       "      <th>2</th>\n",
       "      <td>Photo by 𝒞𝒶𝓇𝓎_𝒹𝒶𝒾𝓁𝓎𝑔𝓇𝒶𝓂 on September 05, 2020....</td>\n",
       "      <td>https://www.instagram.com/p/CE8jy4vAytU/</td>\n",
       "    </tr>\n",
       "    <tr>\n",
       "      <th>3</th>\n",
       "      <td>Photo by 해서다운 삶💛 in 서울신라호텔 with @hs__y, an...</td>\n",
       "      <td>https://www.instagram.com/p/CE8jy4vAytU/</td>\n",
       "    </tr>\n",
       "    <tr>\n",
       "      <th>4</th>\n",
       "      <td>Photo by 𝒞𝒶𝓇𝓎_𝒹𝒶𝒾𝓁𝓎𝑔𝓇𝒶𝓂 in The Shilla Hotels &amp;...</td>\n",
       "      <td>https://www.instagram.com/p/CE8jy4vAytU/</td>\n",
       "    </tr>\n",
       "    <tr>\n",
       "      <th>...</th>\n",
       "      <td>...</td>\n",
       "      <td>...</td>\n",
       "    </tr>\n",
       "    <tr>\n",
       "      <th>160</th>\n",
       "      <td>Photo by @farrell_busan on November 11, 2020. ...</td>\n",
       "      <td>https://www.instagram.com/p/CE8jy4vAytU/</td>\n",
       "    </tr>\n",
       "    <tr>\n",
       "      <th>161</th>\n",
       "      <td>Photo by @farrell_busan on November 11, 2020. ...</td>\n",
       "      <td>https://www.instagram.com/p/CE8jy4vAytU/</td>\n",
       "    </tr>\n",
       "    <tr>\n",
       "      <th>162</th>\n",
       "      <td>Photo by 김이진 on November 11, 2020. 사진 설명이 없습니다..</td>\n",
       "      <td>https://www.instagram.com/p/CE8jy4vAytU/</td>\n",
       "    </tr>\n",
       "    <tr>\n",
       "      <th>163</th>\n",
       "      <td>Photo by @farrell_busan on November 11, 2020. ...</td>\n",
       "      <td>https://www.instagram.com/p/CE8jy4vAytU/</td>\n",
       "    </tr>\n",
       "    <tr>\n",
       "      <th>164</th>\n",
       "      <td>Photo by 김이진 on November 11, 2020. 이미지: 사람 1명 ...</td>\n",
       "      <td>https://www.instagram.com/p/CE8jy4vAytU/</td>\n",
       "    </tr>\n",
       "  </tbody>\n",
       "</table>\n",
       "<p>165 rows × 2 columns</p>\n",
       "</div>"
      ],
      "text/plain": [
       "                                                   alt  \\\n",
       "0    Photo by 𝒞𝒶𝓇𝓎_𝒹𝒶𝒾𝓁𝓎𝑔𝓇𝒶𝓂 in The Shilla Hotels &...   \n",
       "1    Photo by 𝒞𝒶𝓇𝓎_𝒹𝒶𝒾𝓁𝓎𝑔𝓇𝒶𝓂 in The Shilla Hotels &...   \n",
       "2    Photo by 𝒞𝒶𝓇𝓎_𝒹𝒶𝒾𝓁𝓎𝑔𝓇𝒶𝓂 on September 05, 2020....   \n",
       "3    Photo by 해서다운 삶💛 in 서울신라호텔 with @hs__y, an...   \n",
       "4    Photo by 𝒞𝒶𝓇𝓎_𝒹𝒶𝒾𝓁𝓎𝑔𝓇𝒶𝓂 in The Shilla Hotels &...   \n",
       "..                                                 ...   \n",
       "160  Photo by @farrell_busan on November 11, 2020. ...   \n",
       "161  Photo by @farrell_busan on November 11, 2020. ...   \n",
       "162   Photo by 김이진 on November 11, 2020. 사진 설명이 없습니다..   \n",
       "163  Photo by @farrell_busan on November 11, 2020. ...   \n",
       "164  Photo by 김이진 on November 11, 2020. 이미지: 사람 1명 ...   \n",
       "\n",
       "                                          url  \n",
       "0    https://www.instagram.com/p/CE8jy4vAytU/  \n",
       "1    https://www.instagram.com/p/CE8jy4vAytU/  \n",
       "2    https://www.instagram.com/p/CE8jy4vAytU/  \n",
       "3    https://www.instagram.com/p/CE8jy4vAytU/  \n",
       "4    https://www.instagram.com/p/CE8jy4vAytU/  \n",
       "..                                        ...  \n",
       "160  https://www.instagram.com/p/CE8jy4vAytU/  \n",
       "161  https://www.instagram.com/p/CE8jy4vAytU/  \n",
       "162  https://www.instagram.com/p/CE8jy4vAytU/  \n",
       "163  https://www.instagram.com/p/CE8jy4vAytU/  \n",
       "164  https://www.instagram.com/p/CE8jy4vAytU/  \n",
       "\n",
       "[165 rows x 2 columns]"
      ]
     },
     "execution_count": 105,
     "metadata": {},
     "output_type": "execute_result"
    }
   ],
   "source": [
    "import pandas as pd\n",
    "df = pd.DataFrame({\n",
    "    \"alt\":insta_alt,\n",
    "    \"url\":insta_url\n",
    "})\n",
    "df"
   ]
  },
  {
   "cell_type": "code",
   "execution_count": null,
   "metadata": {},
   "outputs": [],
   "source": []
  }
 ],
 "metadata": {
  "kernelspec": {
   "display_name": "Python 3",
   "language": "python",
   "name": "python3"
  },
  "language_info": {
   "codemirror_mode": {
    "name": "ipython",
    "version": 3
   },
   "file_extension": ".py",
   "mimetype": "text/x-python",
   "name": "python",
   "nbconvert_exporter": "python",
   "pygments_lexer": "ipython3",
   "version": "3.8.3"
  },
  "toc": {
   "base_numbering": 1,
   "nav_menu": {},
   "number_sections": true,
   "sideBar": true,
   "skip_h1_title": false,
   "title_cell": "Table of Contents",
   "title_sidebar": "Contents",
   "toc_cell": false,
   "toc_position": {},
   "toc_section_display": true,
   "toc_window_display": false
  }
 },
 "nbformat": 4,
 "nbformat_minor": 4
}
